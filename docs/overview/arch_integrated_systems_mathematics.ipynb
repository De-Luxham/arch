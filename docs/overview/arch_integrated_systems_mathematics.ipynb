{
 "cells": [
  {
   "cell_type": "markdown",
   "metadata": {
    "jupyter": {
     "outputs_hidden": true
    }
   },
   "source": [
    "Some sort of model clock as an absolute, and synced within it's model, when there is a feedback we have a timestep to synchronize. \n",
    "\n",
    "At different n refractive index time will be delayed, n refractive index will cause delay in time, then local delay of time and global time is still moving. You can't assume that the light will be at a certain position at a given absolute time - will be slowed down. What is everything doing at each one time, what is the modulator doing at this one time, (know differntial changes?) position of the light. When you go to single photons how to do you translate on phase? Nonlinearities, forward mixing sources, temporal dependence regime around them. \n",
    "\n",
    "Rigorous system is dependent, to think about. Riverlane model hardware and software, simulator and hardware, simulate on fundamental level and build this up connect abstract quantum and low level hardware. Delta simulator and Delta language, inspiration. \n",
    "\n",
    "Graph modelling. Integate model and integrate,\n",
    "\n",
    "\n",
    "Time dependent, non frequency inputs will be variables in the from:\n",
    "\n",
    "\\begin{bmatrix}\n",
    "x_1(t) \\\\ x_2(t)\n",
    "\\end{bmatrix}\n",
    "\n",
    "Outputs will be variables in the from:\n",
    "\n",
    "\\begin{bmatrix}\n",
    "y_1(t) \\\\ y_2(t)\n",
    "\\end{bmatrix}\n",
    "\n",
    "Operation in the middle, nonlinear time dependent relationship between the models and the inputs and output. Not necessarily in linear matrix form, but maybe somthing like\n",
    "\n",
    "\\begin{bmatrix}\n",
    "f_1(t) & f_2(t) \\\\ f_3(t) & f_4(t)\n",
    "\\end{bmatrix}\n",
    "\n",
    "Issues around:\n",
    "* feeback\n",
    "* Piecewise functions\n",
    "* accuracy\n",
    "* frequequency modelling dependence \n",
    "* Non time simulations like simphony.\n",
    "\n",
    "Implement Spice within it and more likely to pick it.\n",
    "\n",
    "Classical light into photonic circuits, port it into quantum. Q-node gates and classical parameters, measure classical and model blobs, model neural network. Quantum system input and output. We can model how light propagates through waveguides - how to make them compatible. Nonlinear quantum optics model. Gary photonic sources, model nonlinear quantum, you can't create a nonlinear quantum model. Integrate Qiskit.\n",
    "\n",
    "Write code to target operation, what maths have they considered. Function to generate special waveform and send that. Putting pieces together, would be novel, paper without writing any code. Cambridge Quantum Computer, ZX calculus more general way of writing quantum circuit, operation of quantum computing. \n",
    "\n",
    "Looking framework are out there, what can I done:\n",
    "* https://github.com/NanoComp/meep\n",
    "\n",
    "Neural network simple, "
   ]
  },
  {
   "cell_type": "code",
   "execution_count": null,
   "metadata": {},
   "outputs": [],
   "source": []
  },
  {
   "cell_type": "code",
   "execution_count": null,
   "metadata": {},
   "outputs": [],
   "source": []
  }
 ],
 "metadata": {
  "kernelspec": {
   "display_name": "Python 3",
   "language": "python",
   "name": "python3"
  },
  "language_info": {
   "codemirror_mode": {
    "name": "ipython",
    "version": 3
   },
   "file_extension": ".py",
   "mimetype": "text/x-python",
   "name": "python",
   "nbconvert_exporter": "python",
   "pygments_lexer": "ipython3",
   "version": "3.8.3"
  }
 },
 "nbformat": 4,
 "nbformat_minor": 4
}