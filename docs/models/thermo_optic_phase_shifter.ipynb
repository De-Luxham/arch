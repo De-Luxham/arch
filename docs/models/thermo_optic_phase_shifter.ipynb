{
 "cells": [
  {
   "cell_type": "markdown",
   "metadata": {},
   "source": [
    "# Thermo-optic Phase Modulator Theory"
   ]
  },
  {
   "cell_type": "code",
   "execution_count": 1,
   "metadata": {},
   "outputs": [],
   "source": [
    "import sympy as sy"
   ]
  },
  {
   "cell_type": "markdown",
   "metadata": {
    "jupyter": {
     "outputs_hidden": true
    }
   },
   "source": [
    "Physics theory behind a thermo-optic phase shifter\n",
    "\n",
    "\\begin{equation}\n",
    "\\frac{d\\phi}{dT} = \\frac{2 \\pi L (\\frac{dn}{dT} + n(T)\\alpha(T))}{\\lambda}\n",
    "\\end{equation}"
   ]
  },
  {
   "cell_type": "markdown",
   "metadata": {},
   "source": [
    "We know that the thermo-optic coefficient of the material $\\beta(T) = \\frac{dn}{dT}$ is dependent of the temperature."
   ]
  },
  {
   "cell_type": "markdown",
   "metadata": {},
   "source": [
    "Note that if we wanted to understand the dynamic behaviour of the device, we'd need to understand the time differential on the dimensionally proper values that change over time. For this we use SymPy to differentiate.\n",
    "\n",
    "We must take into account that there are only two variables that really change over time when a heater is turned on and off. The temperature changes over time so all temperature dependent variables are also time dependent in this case: $n$, $\\alpha$ and accordingly $\\phi$."
   ]
  },
  {
   "cell_type": "code",
   "execution_count": 8,
   "metadata": {},
   "outputs": [],
   "source": [
    "lambda_0, L, rho, t, T, w= sy.symbols(\"lambda_0 L \\\\rho t T w\")\n",
    "alpha = sy.Function(\"\\\\alpha \")(t, T)\n",
    "phi = sy.Function(\"\\\\phi\")(t, T)\n",
    "n = sy.Function(\"n\")(t, T)"
   ]
  },
  {
   "cell_type": "code",
   "execution_count": 9,
   "metadata": {},
   "outputs": [
    {
     "data": {
      "text/latex": [
       "$\\displaystyle \\phi{\\left(t,T \\right)}$"
      ],
      "text/plain": [
       "\\phi(t, T)"
      ]
     },
     "execution_count": 9,
     "metadata": {},
     "output_type": "execute_result"
    }
   ],
   "source": [
    "phi"
   ]
  },
  {
   "cell_type": "code",
   "execution_count": 10,
   "metadata": {},
   "outputs": [
    {
     "data": {
      "text/latex": [
       "$\\displaystyle \\frac{2 \\pi L \\left(\\alpha {\\left(t,T \\right)} n{\\left(t,T \\right)} + \\frac{\\partial}{\\partial T} n{\\left(t,T \\right)}\\right)}{\\lambda_{0}}$"
      ],
      "text/plain": [
       "2*pi*L*(\\alpha (t, T)*n(t, T) + Derivative(n(t, T), T))/lambda_0"
      ]
     },
     "execution_count": 10,
     "metadata": {},
     "output_type": "execute_result"
    }
   ],
   "source": [
    "dphi_dT = 2 * sy.pi * L * ( n.diff(T) + n * alpha) / lambda_0\n",
    "dphi_dT"
   ]
  },
  {
   "cell_type": "markdown",
   "metadata": {},
   "source": [
    "So we can integrate this to get the absolute phase $\\phi$ for a given temperature."
   ]
  },
  {
   "cell_type": "code",
   "execution_count": 11,
   "metadata": {},
   "outputs": [
    {
     "data": {
      "text/latex": [
       "$\\displaystyle \\frac{2 \\pi L \\left(\\int \\alpha {\\left(t,T \\right)} n{\\left(t,T \\right)}\\, dT + \\int \\frac{\\partial}{\\partial T} n{\\left(t,T \\right)}\\, dT\\right)}{\\lambda_{0}}$"
      ],
      "text/plain": [
       "2*pi*L*(Integral(\\alpha (t, T)*n(t, T), T) + Integral(Derivative(n(t, T), T), T))/lambda_0"
      ]
     },
     "execution_count": 11,
     "metadata": {},
     "output_type": "execute_result"
    }
   ],
   "source": [
    "phi_expression = sy.integrate(dphi_dT, T)\n",
    "phi_expression"
   ]
  },
  {
   "cell_type": "markdown",
   "metadata": {},
   "source": [
    "However, in reality what we care about is the phase change, so if we assume that we have discrete changes, we can then write something of the order:\n",
    "\n",
    "\\begin{equation}\n",
    "\\Delta \\phi = \\frac{2 \\pi L\\frac{dn}{dT}  \\Delta T }{\\lambda}\n",
    "\\end{equation}"
   ]
  },
  {
   "cell_type": "markdown",
   "metadata": {},
   "source": [
    "If we were to consider the inputs and outputs of the system, let's consider the electro-magnetic wave that enters the heated waveguide path. Accroding to the length of the computation, the phase will be different and calculated at each step of the way if desired. The other interesting aspect would be how the temperature changes the properties of the other part of the optical signal. The interesting thing to compute as well would be what if the signal changes midway throughout the waveguide, or if you have an electronic signal changing at similar time-stamps as the optical waveguide - particularly relevant for an RF-modelled design. "
   ]
  },
  {
   "cell_type": "markdown",
   "metadata": {},
   "source": [
    "So our electronic signal would be somthing of the sort: $v(t)$ and $i(t)$ that is digitally or mixed-signal RF emmitted.\n",
    "\n",
    "You can in theory perform frequency analysis over these type of electronic signals, but the issue there is that you then need to perform freqeuncy analysis over the electro-optic response. But at least in the case of electro-optic modulators, it is a viable assumption that electronic signal will modulate the optical frequency at given operation frequencies - would you perform frequency analysis on the optical signal too in this case?"
   ]
  },
  {
   "cell_type": "markdown",
   "metadata": {},
   "source": [
    "We know each thermo-optic heater will have a given resistance of the form, for a given sheet resistance $\\rho$."
   ]
  },
  {
   "cell_type": "code",
   "execution_count": 12,
   "metadata": {},
   "outputs": [],
   "source": [
    "def resistance_calculator(heater_length=L,\n",
    "                          heater_width=w,\n",
    "                          heater_square_resistance = rho):\n",
    "    return heater_square_resistance * heater_length / heater_width"
   ]
  },
  {
   "cell_type": "code",
   "execution_count": 13,
   "metadata": {},
   "outputs": [
    {
     "data": {
      "text/latex": [
       "$\\displaystyle \\frac{L \\rho}{w}$"
      ],
      "text/plain": [
       "L*\\rho/w"
      ]
     },
     "execution_count": 13,
     "metadata": {},
     "output_type": "execute_result"
    }
   ],
   "source": [
    "resistance_calculator()"
   ]
  },
  {
   "cell_type": "markdown",
   "metadata": {},
   "source": [
    "Note that this resistance is in the form $\\Omega$ and only considers the real electrical resistance assuming DC operation of $V(t) = i(t)R$ Ohm's law, and does not consider parasitic capacitances and impedances. So part of the issue as well is that we're not considering the frequency response of the impedance of the heaters in relation to the input response. We can assume there's an electrically-inputted total power of $P(t) = V(t)i(t)$, and there will be an efficiency fraction $\\eta$ that becomes thermal power. Hence, thermal power $P_T(t) = \\eta V(t)i(t)$"
   ]
  },
  {
   "attachments": {
    "446946e4-375f-4400-99aa-7cee77cf777d.png": {
     "image/png": "[encoded data removed]"
    }
   },
   "cell_type": "markdown",
   "metadata": {},
   "source": [
    "Let's assume DC impedance is applicable at low frequencies. We then need to understand the electro-thermal dynamic response to the input signal. Assuming the temporal response from:\n",
    "\n",
    "* https://doi.org/10.1116/1.1914815\n",
    "* https://www.osapublishing.org/oe/fulltext.cfm?uri=oe-27-8-10456&id=408126\n",
    "* https://ieeexplore.ieee.org/document/9184872\n",
    "\n",
    "We could argue there is an electro-thermal time constant of a first order control system of the form:\n",
    "\n",
    "<img src=\"img/first_second_order_system_step_response.jpg\" width=75% />![image.png](attachment:446946e4-375f-4400-99aa-7cee77cf777d.png)"
   ]
  },
  {
   "cell_type": "markdown",
   "metadata": {},
   "source": [
    "Note that the first order system model response to a step input is in the form:\n",
    "\n",
    "\\begin{equation}\n",
    "r(t) = 1 - e^{-t/\\tau}\n",
    "\\end{equation}\n",
    "\n",
    "where $\\tau$ is the time constant that determines the speed of the response. A second order system can be equally used to model it in case of oscillations, or in an overdamped case, to understand whatever real effect of damping exists.\n",
    "\n",
    "\n",
    "With regards to the dynamic characterization, it is known that:\n",
    "\n",
    ">Figures 10(a) and 10(b) show the measured bandwidth and time-domain switching of the TiN\n",
    "and N++ Si TOPS. In Fig. 10(a), the pattern generator produces a variable frequency sine wave\n",
    "with\n",
    "$V_{\\pi}$ /2 \n",
    "amplitude, and the amplitude response is read on the oscilloscope. The 3dB\n",
    "bandwidth is 33 kHz for the TiN TOPS and 85 kHz for the N++ Si TOPS. In Fig. 10(b), a 5 kHz\n",
    "square wave with\n",
    "$V_{\\pi}$ / 2\n",
    "amplitude and the required offset to switch between the two first\n",
    "extrema of optical transmission is applied to both heaters. The 1/e rise and fall time constants\n",
    "are measured directly with the oscilloscope, and are\n",
    "rise\n",
    "3.7 μs,\n",
    "fall =\n",
    "7.2 μs for the TiN\n",
    "TOPS, and\n",
    "rise=\n",
    "2.2 μs,\n",
    "fall =\n",
    "2.0 μs for the N++ Si TOPS. For the TiN TOPS, the asymmetric\n",
    "time constants, i.e., significantly slower fall time, can be explained by the bad thermal\n",
    "TiN TOPS\n",
    "Gap: oxide cladding\n",
    "N++ Si TOPS\n",
    "Gap: oxide cladding\n",
    "N++ Si TOPS\n",
    "Gap: etched oxide\n",
    "N++ Si TOPS\n",
    "Gap: deep trench\n",
    "conductance between the heater and the heat drain [21], itself arising from the relatively thick\n",
    "oxide layer and air surrounding the metal.\n",
    "\n",
    "<img src=\"img/experimental_thermo_optic_heater_time_response.png\" />"
   ]
  },
  {
   "cell_type": "markdown",
   "metadata": {},
   "source": [
    "Hence, it is known that the effective electro-thermaml response model depends on the insulation length, insulation distance, and would require two time constants that would need to be embedded into the dynamic effective real response to a certain level of configuration. This can be mathematically done in the form in the response $r(P_T)$ for a given power $P_T$ change:\n",
    "\n",
    "\\begin{equation}\n",
    "r(P, t) = \\left\\{\n",
    "        \\begin{array}{ll}\n",
    "            1 - e^{-t/\\tau_1} & \\quad \\frac{dP_T}{dt} \\leq 0 \\\\\n",
    "            1 - e^{-t/\\tau_2} & \\quad \\frac{dP_T}{dt} \\geq 0\n",
    "        \\end{array}\n",
    "    \\right.\n",
    "\\end{equation}"
   ]
  },
  {
   "cell_type": "markdown",
   "metadata": {},
   "source": [
    "And this would apply for several asymetric electro-thermal response cases, also in case a second order model is desired, this would be replaced either in the rise or fall edge.\n",
    "\n",
    "Another factor to consider is the position of the heater respect to the waveguide, and how this power transfers into a temperature position change, and this is very dependent on materials and configuration. This, in particular, may be further explored in Lumerical modelling, but analytically would require some clasical heat transfer 2D modelling that might be better using FEA, although analytical models exist."
   ]
  },
  {
   "cell_type": "markdown",
   "metadata": {},
   "source": [
    "So there's a couple of things that can already be observed from this model:\n",
    "\n",
    "### Inputs:\n",
    "* Optical signal with a given initial phase.\n",
    "* Thermo-optic heater configuration including: materials, geometry, positions, phase change signal, electro-thermal efficiency, thermal parameters change during modulation?\n",
    "* Electrical, time dependent signals that give total input electrical power. \n",
    "\n",
    "### Assumptions valid for a thermo-optic modulation:\n",
    "* Electronic modulation frequency << optical modulation frequency, so can be treated as DC. Not valid for RF electro-optic modulation.\n",
    "\n",
    "### Outputs\n",
    "* Expected temperature reponse at the waveguide?\n",
    "* Optical phase change at each point of the waveguide transmission dependent how the heater is time and space calculation stepped. \n",
    "* Time delay related to thermal effectse even if minimal?\n",
    "\n",
    "Note that this thermo-optic may be modelled within a single calculation step. \n",
    "If electrical and optical signals are within the same frequency range as in an electro-optic modulator then this approach does not work as the dynamic changes can occur within the modulator path itself. This also depends on the length of the effect in relation to the modulation wavelength, that is nontrivial in RF. Note you then need to account for group-index and similar compatibility model parameters. The dynamic response will then be determined by further electro-thermal model parameters dependent on the papers. You then need to time and space chop the calculation of the signal as it propagates through the waveguide if you wish to get dynamic responses, and you need to take into account delays and inter-interference effects from dynamics delays when not a pure first order reponse occurs. The simulation method becomes time-stepped within space inside models, rather than time-stepped within models assuming some discrete absolute delay in that path - so may require different simulation methods - ie incompatible."
   ]
  },
  {
   "cell_type": "code",
   "execution_count": null,
   "metadata": {},
   "outputs": [],
   "source": []
  }
 ],
 "metadata": {
  "kernelspec": {
   "display_name": "Python 3",
   "language": "python",
   "name": "python3"
  },
  "language_info": {
   "codemirror_mode": {
    "name": "ipython",
    "version": 3
   },
   "file_extension": ".py",
   "mimetype": "text/x-python",
   "name": "python",
   "nbconvert_exporter": "python",
   "pygments_lexer": "ipython3",
   "version": "3.8.3"
  }
 },
 "nbformat": 4,
 "nbformat_minor": 4
}
