{
 "cells": [
  {
   "cell_type": "markdown",
   "id": "northern-transportation",
   "metadata": {},
   "source": [
    "# Electro-Optic Modulator"
   ]
  },
  {
   "cell_type": "code",
   "execution_count": 1,
   "id": "verbal-affairs",
   "metadata": {},
   "outputs": [],
   "source": [
    "import sympy as sy"
   ]
  },
  {
   "cell_type": "markdown",
   "id": "conditional-quick",
   "metadata": {},
   "source": [
    "The electro-optic modulator theory is taken from this paper https://www.osapublishing.org/josab/abstract.cfm?uri=josab-27-6-a119:\n",
    "\n",
    "\n",
    "\\begin{equation}\n",
    "\\Delta \\phi (t) = \\frac{2 \\pi L \\Delta n}{\\lambda_0}\n",
    "\\end{equation}\n",
    "\n",
    "\\begin{equation}\n",
    "\\frac{\\Delta \\phi (t)}{\\Delta n} \\to \\frac{d \\phi (t)}{d n} = \\frac{2 \\pi L }{\\lambda_0}\n",
    "\\end{equation}\n",
    "\n",
    "\n",
    "Note that if we substitute, in this case from the electro-optic effect (TODO find specific origin of this equation):\n",
    "\\begin{equation}\n",
    "\\Delta n = \\frac{r n^3_0 V(t)}{d}\n",
    "\\end{equation}\n",
    "\n",
    "Hence, for $V(t) = V_{DC} + \\Delta V(t)$, it can be written as:\n",
    "\n",
    "\\begin{equation}\n",
    "\\Delta \\phi (t) =  \\frac{\\pi n_0^{3} r L (V_{DC} + \\Delta V(t))}{d \\lambda_0} = \\frac{\\pi (V_{DC} + \\Delta V(t))}{V_{\\pi}}\n",
    "\\end{equation}\n",
    "\n",
    "Since\n",
    "\n",
    "\\begin{equation}\n",
    "V_{\\pi} = \\frac{d \\lambda_0}{n^3_0 r l}\n",
    "\\end{equation}\n",
    "\n",
    "Hence:\n",
    "\\begin{equation}\n",
    "\\Delta \\phi (t) = \\frac{\\pi (V_{DC} + \\Delta V(t))}{V_{\\pi}}\n",
    "\\end{equation}"
   ]
  },
  {
   "cell_type": "markdown",
   "id": "worldwide-elephant",
   "metadata": {},
   "source": [
    "Note:\n",
    "* $r$ Electro-optic coefficient"
   ]
  },
  {
   "cell_type": "code",
   "execution_count": 10,
   "id": "premium-crash",
   "metadata": {},
   "outputs": [
    {
     "data": {
      "text/latex": [
       "$\\displaystyle \\phi{\\left(t \\right)}$"
      ],
      "text/plain": [
       "\\phi(t)"
      ]
     },
     "execution_count": 10,
     "metadata": {},
     "output_type": "execute_result"
    }
   ],
   "source": [
    "lambda_0, L, n, r, t = sy.symbols(\"\\\\lambda_0 L n r t\")\n",
    "phi = sy.Function(\"\\\\phi\")(t)\n",
    "V = sy.Function(\"V\")(t)\n",
    "phi"
   ]
  },
  {
   "cell_type": "code",
   "execution_count": 9,
   "id": "thousand-leader",
   "metadata": {},
   "outputs": [
    {
     "data": {
      "text/latex": [
       "$\\displaystyle V{\\left(t \\right)}$"
      ],
      "text/plain": [
       "V(t)"
      ]
     },
     "execution_count": 9,
     "metadata": {},
     "output_type": "execute_result"
    }
   ],
   "source": [
    "V"
   ]
  },
  {
   "cell_type": "markdown",
   "id": "devoted-continent",
   "metadata": {},
   "source": [
    "#### Assumptions on $r$ Electro-optic Index Value\n",
    "\n",
    "The electro-optic index is a constant value according to the material? Depends on the polarization of light.\n",
    "\n",
    "(TODO tell full story and get all the parameter calculations that validate a specific value, and whether this changes over temperature, and bias and time)"
   ]
  },
  {
   "cell_type": "code",
   "execution_count": null,
   "id": "flush-processing",
   "metadata": {},
   "outputs": [],
   "source": []
  }
 ],
 "metadata": {
  "kernelspec": {
   "display_name": "Python 3",
   "language": "python",
   "name": "python3"
  },
  "language_info": {
   "codemirror_mode": {
    "name": "ipython",
    "version": 3
   },
   "file_extension": ".py",
   "mimetype": "text/x-python",
   "name": "python",
   "nbconvert_exporter": "python",
   "pygments_lexer": "ipython3",
   "version": "3.8.6"
  }
 },
 "nbformat": 4,
 "nbformat_minor": 5
}
