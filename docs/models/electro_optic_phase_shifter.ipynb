{
 "cells": [
  {
   "cell_type": "markdown",
   "metadata": {},
   "source": [
    "# Electro-Optic Modulator"
   ]
  },
  {
   "cell_type": "markdown",
   "metadata": {},
   "source": [
    "## Classical model"
   ]
  },
  {
   "cell_type": "code",
   "execution_count": 13,
   "metadata": {},
   "outputs": [],
   "source": [
    "import sympy as sy\n",
    "from math import pi\n",
    "import cmath"
   ]
  },
  {
   "cell_type": "markdown",
   "metadata": {},
   "source": [
    "The electro-optic modulator theory is taken from this paper https://www.osapublishing.org/josab/abstract.cfm?uri=josab-27-6-a119:\n",
    "\n",
    "\n",
    "\\begin{equation}\n",
    "\\Delta \\phi (t) = \\frac{2 \\pi L \\Delta n}{\\lambda_0}\n",
    "\\end{equation}\n",
    "\n",
    "\\begin{equation}\n",
    "\\frac{\\Delta \\phi (t)}{\\Delta n} \\to \\frac{d \\phi (t)}{d n} = \\frac{2 \\pi L }{\\lambda_0}\n",
    "\\end{equation}\n",
    "\n",
    "\n",
    "Note that if we substitute, in this case from the electro-optic effect (TODO find specific origin of this equation):\n",
    "\\begin{equation}\n",
    "\\Delta n = \\frac{r n^3_0 V(t)}{d}\n",
    "\\end{equation}\n",
    "\n",
    "Hence, for $V(t) = V_{DC} + \\Delta V(t)$, it can be written as:\n",
    "\n",
    "\\begin{equation}\n",
    "\\Delta \\phi (t) =  \\frac{\\pi n_0^{3} r L (V_{DC} + \\Delta V(t))}{d \\lambda_0} = \\frac{\\pi (V_{DC} + \\Delta V(t))}{V_{\\pi}}\n",
    "\\end{equation}\n",
    "\n",
    "Since\n",
    "\n",
    "\\begin{equation}\n",
    "V_{\\pi} = \\frac{d \\lambda_0}{n^3_0 r l}\n",
    "\\end{equation}\n",
    "\n",
    "Hence:\n",
    "\\begin{equation}\n",
    "\\Delta \\phi (t) = \\frac{\\pi (V_{DC} + \\Delta V(t))}{V_{\\pi}}\n",
    "\\end{equation}"
   ]
  },
  {
   "cell_type": "markdown",
   "metadata": {},
   "source": [
    "Note:\n",
    "* $r$ Electro-optic coefficient"
   ]
  },
  {
   "cell_type": "code",
   "execution_count": 10,
   "metadata": {},
   "outputs": [
    {
     "data": {
      "text/latex": [
       "$\\displaystyle \\phi{\\left(t \\right)}$"
      ],
      "text/plain": [
       "\\phi(t)"
      ]
     },
     "execution_count": 10,
     "metadata": {},
     "output_type": "execute_result"
    }
   ],
   "source": [
    "lambda_0, L, rfr, r, t = sy.symbols(\"\\\\lambda_0 L rfr r t\")\n",
    "phi = sy.Function(\"\\\\phi\")(t)\n",
    "V = sy.Function(\"V\")(t)\n",
    "phi"
   ]
  },
  {
   "cell_type": "code",
   "execution_count": 9,
   "metadata": {},
   "outputs": [
    {
     "data": {
      "text/latex": [
       "$\\displaystyle V{\\left(t \\right)}$"
      ],
      "text/plain": [
       "V(t)"
      ]
     },
     "execution_count": 9,
     "metadata": {},
     "output_type": "execute_result"
    }
   ],
   "source": [
    "V"
   ]
  },
  {
   "cell_type": "code",
   "execution_count": null,
   "metadata": {},
   "outputs": [],
   "source": []
  },
  {
   "cell_type": "markdown",
   "metadata": {},
   "source": [
    "#### Assumptions on $r$ Electro-optic Index Value\n",
    "\n",
    "The electro-optic index is a constant value according to the material? Depends on the polarization of light.\n",
    "\n",
    "(TODO tell full story and get all the parameter calculations that validate a specific value, and whether this changes over temperature, and bias and time)"
   ]
  },
  {
   "cell_type": "markdown",
   "metadata": {},
   "source": [
    "The assumption is that input light is monochromatic and polarized in $\\hat{x}$ direction with amplitude given by $\\omega_0$\n",
    "\n",
    "\\begin{equation}\n",
    "\\mathbf{E_{in}}(z,t)= {E_0} \\hat{\\mathbf{x}} e^{{(j(\\omega_o t-k(\\omega_0)z}}={E_0} \\hat{\\mathbf{x}} e^{{j \\omega_0(t-z/v)}}\n",
    "\\end{equation}\n",
    "\n",
    "It is also assumed that the modulator is located between $z=-l$ and $z=0$, so that the input light acquires an additional phase at the output \n",
    "\n",
    "\\begin{equation}\n",
    "\\mathbf{E_{out}}(0,t)= \\mathbf{E_{in}}(0,t)e^{{j\\Delta\\phi(t)}}= {E_0}\\hat{\\mathbf{x}} e^{{j\\omega_o t}}e^{{j\\phi_b}}e^{{j\\pi\\Delta V(t)/V_{\\pi}}}\n",
    "\\end{equation}\n",
    "\n",
    "Here $\\phi_b=\\pi V_{DC}/V_\\pi$. \n"
   ]
  },
  {
   "cell_type": "code",
   "execution_count": 17,
   "metadata": {},
   "outputs": [
    {
     "data": {
      "text/latex": [
       "$\\displaystyle E_{0} e^{j \\phi_{b}} e^{\\frac{3.14159265358979 \\delta_{V} j}{Vpi}} e^{j \\omega_{0} t}$"
      ],
      "text/plain": [
       "E_0*exp(j*phi_b)*exp(3.14159265358979*delta_V*j/Vpi)*exp(j*omega_0*t)"
      ]
     },
     "execution_count": 17,
     "metadata": {},
     "output_type": "execute_result"
    }
   ],
   "source": [
    "E_0,omega_0,phi_b,Vpi,t,delta_V,j=sy.symbols(\"E_0,omega_0,phi_b,Vpi,t,delta_V,j\")\n",
    "E_out=E_0*sy.exp(j*omega_0*t)*sy.exp(j*phi_b)*sy.exp(j*pi*delta_V/Vpi)\n",
    "E_out"
   ]
  },
  {
   "cell_type": "markdown",
   "metadata": {},
   "source": [
    "The case of special interest to us is sinusoidal modulation of frequency $\\Omega$ which is given by \n",
    "\\begin{equation}\n",
    "\\Delta V(t)=V_m\\cos{(\\Omega t+\\theta)}\n",
    "\\end{equation}\n",
    "\n",
    "Here $m$ is so-called 'modulation' index given by $m=\\pi V_m/V_\\pi$ and it defines the ratio between applied voltage's amplitude and $V_\\pi$, voltage needed to obtain $\\pi$ phase shift. \n",
    "\n",
    "Further, the expression for the light output coming from $z=0$ is:\n",
    "\n",
    "\\begin{equation}\n",
    "\\mathbf{E_{out}}(0,t)=\\mathbf{E_{in}}(0,t)e^{{j\\Delta\\phi(t)}}=E_0\\mathbf{\\hat{x}}e^{{j\\omega_0t}}e^{{jm\\cos{(\\Omega t+\\theta)}}}\n",
    "\\end{equation}\n"
   ]
  },
  {
   "cell_type": "code",
   "execution_count": 9,
   "metadata": {},
   "outputs": [
    {
     "data": {
      "text/latex": [
       "$\\displaystyle V_{m} \\cos{\\left(\\Omega t + \\theta \\right)}$"
      ],
      "text/plain": [
       "V_m*cos(Omega*t + theta)"
      ]
     },
     "execution_count": 9,
     "metadata": {},
     "output_type": "execute_result"
    }
   ],
   "source": [
    "V_m, Omega,theta,Vpi = sy.symbols(\"V_m Omega t theta Vpi\")\n",
    "deltaV=V_m*sy.cos(Omega*t+theta)\n",
    "m=pi*V_m/Vpi\n",
    "deltaV"
   ]
  },
  {
   "cell_type": "markdown",
   "metadata": {},
   "source": [
    "Furthermore, it can be shown that the modulating signal not only produces the 'base' modulated signal, but also higher harmonics, which can be shown using Jacobi-Anger expansion of Bessel functions. Theoretically, there are infinite of these harmonics displaced from the carrier frequency by integer multiple of $\\Omega$. However, practically, the ratio between carrier (optical) frequency $\\omega_0$ and modulation frequency $\\Omega $ is order of $10^4$ so the higher harmonics are negligible.\n",
    "\n",
    "\\begin{equation}\n",
    "e^{jz\\cos{\\theta}}=\\displaystyle\\sum_{n=-\\infty}^{+\\infty}{j^n J_n(z)e^{jn\\theta}}\n",
    "\\end{equation}\n",
    "\n",
    "That means that after the modulation output signal consists of travelling waves of higher frequencies\n",
    "\n",
    "\\begin{equation}\n",
    "\\mathbf{E_{out}}(z,t)=E_0\\mathbf{\\hat{x}}e^{j\\phi_b}\\displaystyle\\sum_{n=-\\infty}^{+\\infty}{(je^{j\\theta})}^nJ_n(m)e^{j(\\omega_0+n\\Omega)(t-z/v)}=E_0\\mathbf{\\hat{x}}\\displaystyle\\sum_{n=-\\infty}^{+\\infty}C_ne^{j(\\omega_0+n\\Omega)(t-z/v)}\n",
    "\\end{equation}\n",
    "\n",
    "Coefficients $C_n$ are defined as\n",
    "\\begin{equation}\n",
    "C_n=e^{j\\phi_b}(je^{j\\theta})^nJ_n(m)\n",
    "\\end{equation}"
   ]
  },
  {
   "cell_type": "code",
   "execution_count": null,
   "metadata": {},
   "outputs": [],
   "source": []
  },
  {
   "cell_type": "markdown",
   "metadata": {},
   "source": [
    "### Considerations "
   ]
  },
  {
   "cell_type": "markdown",
   "metadata": {},
   "source": [
    "As seen in previous text, classical electro-optical modulator can be modelled as a black box with input parameters being applied voltage and input light, which is here considered to be monochromatic and linearly polarized. The applied sinusoidal modulating signal does not produce just a single sideband displaced by modulating frequancy $\\pm\\Omega$, but also higher harmonics which are infinite in theory. \n",
    "Looking at the derived output expression, there is inconsistency for harmonics high enough - it yields to negative frequency. In practice (looking at the classical model) those frequency don't represent an actual problem due to the fact that optical carrier frequency $\\omega_0$ is four orders of magnitude higher than $\\Omega$. However, this will be a problem when building a quantum model. "
   ]
  },
  {
   "cell_type": "markdown",
   "metadata": {},
   "source": [
    "## Quantum model"
   ]
  },
  {
   "cell_type": "markdown",
   "metadata": {},
   "source": [
    "As already mentioned in classical model considerations, optical signal modulation not only generates sidebands we want (first harmonics) but also infinite number of sidebands, which eventually for large enough displacement from carrier frequency leads to unphysical negative frequencies. In classical case we can take the 'handwavy' approach and just ignore them due to the fact that optical frequencies are much larger that RF signal that modulates it, but for quantum model this approach is inadequate, since the model has to preserve unitarity and include even the most unprobable transitions. \n",
    "Here, both negative and non-negative frequency models will be presented.\n",
    "\n",
    "NOTE: This should probably inherit from linear model.\n"
   ]
  },
  {
   "cell_type": "markdown",
   "metadata": {},
   "source": [
    "### Negative frequency model "
   ]
  },
  {
   "cell_type": "markdown",
   "metadata": {},
   "source": [
    "This problem can be approached as 1D scattering problem, where the modulator acts as a scatterer. We should ignore the reflections on the boundaries and approach the modulation as inelastic process where the incoming CW radiation exchanges energy with external RF field, this exchange being mediated by the dielectric material. For the record, the action of the modulator on the input light coming from the left and input light coming from the right side of the modulator would be slightly different, due to the fact that RF phase matching to the optical wave phase matching is valid for one direction of light propagation. \n",
    "\n",
    "So, the assumptions for the quantum model is that this scattering problem is defined in one dimension with quantization length L. The travelling wave modes $\\exp{[j(\\omega t-kz)]}$ allowed by the boudary conditions are given by $kL=2\\pi n$. Here $n$ is a nonzero integer $n=\\pm 1,\\pm 2,...$\n",
    "That means that corresponding frequency is $\\omega=v|k|=2\\pi |n|v/L$. The sign of $n$ denotes the direction in which the input light travels - we will be analyzing the wave that's propagating to the right i.e. $n>0$.\n",
    "Next, we will describe the action of the modulator by constructing the scattering operator $\\hat{S}$.\n"
   ]
  },
  {
   "cell_type": "markdown",
   "metadata": {},
   "source": [
    "\n",
    "NOTATION: Since we'll be dealing with $n>0$ that means that we can label wavevector $k=2\\pi n_0/L$ as $\\omega_0$ since we know it's a non-negative frequency. We can use then wavevector and corresponding frequency interchangeably to describe the mode. Furthermore, a state $|{1}\\rangle_{\\omega_0}$ is a single occupancy Fock-state with frequency $\\omega_0$. We can also use its unique integer index $n_0$ to describe it $|{1}\\rangle_{n_0}$.\n",
    "This is also valid for the modulation frequency $\\Omega$: $\\Omega=2\\pi N c/L$. Integer $N>0$ describes the mode that corresponds to this frequency."
   ]
  },
  {
   "cell_type": "markdown",
   "metadata": {},
   "source": [
    "First, we begin describing the scattering operator $\\hat{S}$ using the coherent states. For single mode input:\n",
    "\n",
    "\\newcommand{\\ket}[1]{\\left|{#1}\\right\\rangle}\n",
    "\\newcommand{\\bra}[1]{\\left\\langle{#1}\\right|}\n",
    "\n",
    "\\begin{equation}\n",
    "|{\\Psi_{in}}\\rangle=|{\\alpha}\\rangle_{n_0}\\rightarrow |\\psi_{out}\\rangle =\\hat{S}|\\alpha\\rangle_{n_0}=\\bigotimes_{q=-\\infty}^{+\\infty}|C_q\\alpha\\rangle_{n_0+qN}\n",
    "\\end{equation}\n",
    "\n",
    "Without proving, this expression is unitary (proof can be found in the paper). "
   ]
  },
  {
   "cell_type": "code",
   "execution_count": null,
   "metadata": {},
   "outputs": [],
   "source": []
  },
  {
   "cell_type": "markdown",
   "metadata": {},
   "source": [
    "Since we want to be able to use this operator to any input quantum state, this can be generalized because it's been derived by using an the overcomplete base of coherent states. Using the closure relation for coherent state basis we can transform the previous expression using the mode creation operators. \n",
    "\n",
    "\\begin{equation}\n",
    "\\hat{S}\\hat{a_{n}}^{\\dagger}\\hat{S}^\\dagger=\\displaystyle\\sum_{q=-\\infty}^{+\\infty}C_{q}\\hat{a}_{n+qN}^{\\dagger}\n",
    "\\end{equation}\n",
    "\n",
    "\\begin{equation}\n",
    "\\hat{S}^\\dagger\\hat{a_{n}}^{\\dagger}\\hat{S}=\\displaystyle\\sum_{q=-\\infty}^{+\\infty}C^{*}_{-q}\\hat{a}_{n+qN}^{\\dagger}\n",
    "\\end{equation}"
   ]
  },
  {
   "cell_type": "markdown",
   "metadata": {},
   "source": [
    "For single photon input, as the vacuum state $|vac\\rangle$ can be also seen as coherent vacuum state, $\\hat{S}^\\dagger|vac\\rangle=|vac\\rangle$ and further $\\hat{a}_n^\\dagger|vac\\rangle=|1\\rangle_n$ so we get\n",
    "\\begin{equation}\n",
    "\\hat{S}\\hat{a}^{\\dagger}_{n}\\hat{S}^{\\dagger}|vac\\rangle=\\hat{S}\\hat{a}_n^{\\dagger}|vac\\rangle=\\hat{S}|1\\rangle_n=\\displaystyle\\sum_{q=-\\infty}^{+\\infty}C_q\\hat{a}_{n+qN}^{\\dagger}|vac\\rangle=\\displaystyle\\sum_{q=-\\infty}^{+\\infty}C_q|1\\rangle_{n+qN}\n",
    "\\end{equation}"
   ]
  },
  {
   "cell_type": "code",
   "execution_count": null,
   "metadata": {},
   "outputs": [],
   "source": []
  },
  {
   "cell_type": "markdown",
   "metadata": {},
   "source": [
    "$C_q$ is a probability amplitude of a single photon state in mode $n$ transitioning to a single photon state in a mode $n+qN$.\n",
    "Further, when we have the form of the operator $\\hat{S}$ we should derive the expression for the coefficients $C_q$.\n",
    "The explicit form of the operator $\\hat{S}$ is:\n",
    "\\begin{equation}\n",
    "\\hat{S}=\\hat{S}_N(\\chi,\\phi_b)=\\exp{[j\\hat{G}_N(\\chi,\\phi_b)]}=\\exp{[j(\\chi\\hat{T}_N+\\chi^*\\hat{T}_N^\\dagger+\\phi_b\\hat{N}_{ph})]}\n",
    "\\end{equation}\n",
    "\n",
    "Here, $\\hat{T}_N=\\sum_{n=-\\infty}^{+\\infty}\\hat{a}_{n+N}^\\dagger\\hat{a}_n$ and $\\chi=e^{j\\theta}m/2$. Terms in $\\hat{T}_N$ represent creation of photon in mode $n+qN$ by annihilation of photon in mode $n$. \n"
   ]
  },
  {
   "cell_type": "code",
   "execution_count": null,
   "metadata": {},
   "outputs": [],
   "source": []
  },
  {
   "cell_type": "markdown",
   "metadata": {},
   "source": [
    "The final form of the operator $\\hat{S}$ is:\n",
    "\n",
    "\\begin{equation}\n",
    "\\hat{S}\\hat{a}_n^\\dagger\\hat{S}^\\dagger=\\displaystyle\\sum_{q=-\\infty}^{+\\infty}e^{j\\phi_b}(je^{j\\theta})^qJ_q(m)\\hat{a}_{n+qN}^\\dagger)=\\displaystyle\\sum_{q=-\\infty}^{+\\infty}C_q\\hat{a}_{n+qN}^\\dagger\n",
    "\\end{equation}\n",
    "\n",
    "Here, $J_q(m)$ is the first-kind Bessel function\n",
    "\n",
    "\\begin{equation}\n",
    "J_q(m)=(\\frac{m}{2})^q\\displaystyle\\sum_{n=0}^{\\infty}\\frac{(-1)^n(m/2)^{2n}}{n!(q+n)!}\n",
    "\\end{equation}"
   ]
  },
  {
   "cell_type": "code",
   "execution_count": null,
   "metadata": {},
   "outputs": [],
   "source": []
  }
 ],
 "metadata": {
  "kernelspec": {
   "display_name": "Python 3",
   "language": "python",
   "name": "python3"
  },
  "language_info": {
   "codemirror_mode": {
    "name": "ipython",
    "version": 2
   },
   "file_extension": ".py",
   "mimetype": "text/x-python",
   "name": "python",
   "nbconvert_exporter": "python",
   "pygments_lexer": "ipython2",
   "version": "2.7.16"
  }
 },
 "nbformat": 4,
 "nbformat_minor": 5
}
