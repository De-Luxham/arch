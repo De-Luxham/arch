{
 "cells": [
  {
   "cell_type": "code",
   "execution_count": 25,
   "metadata": {},
   "outputs": [
    {
     "name": "stdout",
     "output_type": "stream",
     "text": [
      "Unable to import `thewalrus`. Using (slower) permanent backup function.\n"
     ]
    }
   ],
   "source": [
    "import numpy as np\n",
    "from sympy import Matrix\n",
    "import copy\n",
    "import math\n",
    "import importlib.util\n",
    "try:\n",
    "\timport thewalrus\n",
    "except:\n",
    "\tprint(\"Unable to import `thewalrus`. Using (slower) permanent backup function.\" )\n"
   ]
  },
  {
   "cell_type": "markdown",
   "metadata": {},
   "source": [
    "# Simulating an Interferometer."
   ]
  },
  {
   "cell_type": "markdown",
   "metadata": {},
   "source": [
    "Simulating the quantum state evolution through an interferometer is simulating boson sampling, and as such cannot be done efficiently classically.\n",
    "\n",
    "The simplest example of boson sampling is that of simulating a beamsplitter. It's instructive to look at this example in detail as it highlights why one must move to the second quantized picture (Fock space), as the first quantised picture fails to accurately predict the correct behaviour.\n",
    "\n",
    "![first_second_order_system_step_response](images/bs.png)\n"
   ]
  },
  {
   "cell_type": "markdown",
   "metadata": {},
   "source": [
    "## Naive first quantised beamsplitter treatment:\n",
    "\n",
    "Consider the case shown in the diagram here of two incident photons on a beamsplitter. In the first quantised picture we would multiply the input state by the unitary of the beamsplitter:\n",
    "\n",
    "\\begin{equation}\n",
    "\\begin{pmatrix} a_{out} \\\\ b_{out} \\end{pmatrix}= \\frac{1}{\\sqrt{2}}\\begin{pmatrix} 1 & i \\\\ i & 1  \\end{pmatrix} \\begin{pmatrix} a_{in} \\\\ b_{in} \\end{pmatrix}\n",
    "\\end{equation}\n"
   ]
  },
  {
   "cell_type": "markdown",
   "metadata": {},
   "source": [
    "For the case of $\\begin{pmatrix} a_{in} \\\\ b_{in} \\end{pmatrix} = \\begin{pmatrix} 1 \\\\ 1 \\end{pmatrix}$, this gives$\\begin{pmatrix} a_{out} \\\\ b_{out} \\end{pmatrix} =  \\frac{1}{\\sqrt{2}} \\begin{pmatrix} 1+i \\\\ 1+i \\end{pmatrix}$  "
   ]
  },
  {
   "cell_type": "markdown",
   "metadata": {},
   "source": [
    "So the first quantised picture gives us this superposition state as an output, but fails to capture the full behaviour as it does not properly deal with interference effects. In this case, it results in the failure to describe a **HOM dip**.\n"
   ]
  },
  {
   "cell_type": "markdown",
   "metadata": {},
   "source": [
    "## Second quantised beamsplitter treatment:\n",
    "*For an intro to Fock space see pages 9-15 of https://arxiv.org/pdf/1812.10732.pdf* [1]\n",
    "\n",
    "In the second quantised picture every mode is described by a simple harmonic oscillator each with infinite occupation levels. When working in the second quantised picture we move away from describing transforms on states and instead work out how the creation **$\\hat{a}^\\dagger$** and annihilation **$\\hat{a}$** operators of each mode transform under the action of the given unitary.\n",
    "<div>\n",
    "<img src=\"images/bs_fock.png\" width=\"500\"/>\n",
    "</div>\n",
    "\n",
    "In the case of the general 2x2 unitary above, the creation and annihilation operators for each mode transform under the linear mapping:\n",
    "\\begin{equation}\n",
    "\\begin{bmatrix} \\hat{a}_{2} \\\\ \\hat{a}_{3} \\end{bmatrix}= \\frac{1}{\\sqrt{2}}\\begin{bmatrix} t' & r \\\\ r' & t  \\end{bmatrix} \\begin{bmatrix} \\hat{a_0} \\\\ \\hat{a_1} \\end{bmatrix}\n",
    "\\end{equation}\n",
    "\n",
    "Where $ \\hat{a}_{2}, \\hat{a}_{3}$ are the output modes. Subbing in the unitary for a 50:50 beamsplitter we can calculate how the modes transform in the case of two input photons, as in the first part."
   ]
  },
  {
   "cell_type": "markdown",
   "metadata": {},
   "source": [
    "\n",
    "\\begin{align}\n",
    "\\hat{a_0}^\\dagger \\hat{a_1}^\\dagger \\ket{0_{a0}0_{a1}} \\rightarrow (\\hat{a_2}^\\dagger+ i\\hat{a_3}^\\dagger)(\\hat{a_3}^\\dagger+ i\\hat{a_2}^\\dagger)\\ket{0_{a2}0_{a3}} \\\\\n",
    "=\\frac{i}{2}(\\hat{a_2}^\\dagger\\hat{a_2}^\\dagger+\\hat{a_3}^\\dagger\\hat{a_3}^\\dagger)\\ket{0_{a2}0_{a3}} \\\\\n",
    "=\\frac{i}{2}(\\ket{2_{a2}0_{a3}}+\\ket{0_{a2}2_{a3}})\n",
    "\\end{align}\n"
   ]
  },
  {
   "cell_type": "markdown",
   "metadata": {},
   "source": [
    "When inputting two photons into a two port interferometer like this there are in theory 3 possible photon number preserving outcomes. $\\ket{2 0}, \\ket{0 2} , \\ket{1 1}$. The above is telling us that in a 50:50 beamsplitter, the interference effects are such that we never see the $\\ket{1 1}$ case."
   ]
  },
  {
   "cell_type": "markdown",
   "metadata": {},
   "source": [
    "## Generalising to an arbritrary interferometer:"
   ]
  },
  {
   "cell_type": "markdown",
   "metadata": {},
   "source": [
    "*Follows the notation and arguments of:https://arxiv.org/pdf/quant-ph/0406127.pdf* [2]\n",
    "\n",
    "### Notation\n",
    "Ultimatley what we want to calculate is the effect of our interferometer on a given input fock state $ \\ket{n_1, n_2, ...,n_N}$, and return some output quantum state. \n",
    "\n",
    "Let our generalised interferomter be represented by the operator $ \\hat{U}$, with associated unitary matrix $ \\Lambda $. Hence the fock space mode transformations are:\n",
    "\\begin{equation}\n",
    "\\hat{a} \\rightarrow \\Lambda^\\dagger \\hat{a} \\hspace{3em} \\hat{a}^\\dagger \\rightarrow \\Lambda^T \\hat{a}^\\dagger \n",
    "\\end{equation}\n",
    "\n",
    "Here it is also relevant to introduce some more obscure notation taken verbatim from [2]: \n",
    "\n",
    "\"Let $\\Lambda[k_1, . . . , k_m|l_1, . . . , l_m]$ be the (m × m)- matrix whose matrix elements are those of the original matrix Λ with row indices $k_1, . . . , k_m$ and column indices $l_1, . . . , l_m$. For example:\n",
    "\n",
    "\\begin{equation}\n",
    "\\Lambda[k_1, . . . , k_m|l_1, . . . , l_m]= \\begin{pmatrix} \\Lambda_{k_1l_1} & \\Lambda_{k_1l_2} & \\Lambda_{k_1l_3} \\\\ \\Lambda_{k_2l_1} & \\Lambda_{k_2l_2} & \\Lambda_{k_2l_3} \\\\ \\Lambda_{k_3l_1} & \\Lambda_{k_3l_2} & \\Lambda_{k_3l_3}  \\end{pmatrix}\n",
    "\\end{equation}\n",
    "\n",
    "The object $\\Lambda[1^{m1},2^{m2} . . . )|1^{n1},2^{n2} . . . ]$ denotes a matrix whose entries are taken from the matrix $\\Lambda$ and whose row index i occurs exactly $m_i$ times and whose column index j occurs exactly $n_j$ times, for example:\n",
    "\\begin{equation}\n",
    "\\Lambda[1^{1},2^{1},3^{1} )|1^{0},2^{2},3^{1} ]= \\begin{pmatrix} \\Lambda_{12} & \\Lambda_{12} & \\Lambda_{13} \\\\ \\Lambda_{22} & \\Lambda_{22} & \\Lambda_{23} \\\\ \\Lambda_{32} & \\Lambda_{32} & \\Lambda_{33}  \\end{pmatrix}\n",
    "\\end{equation}\n",
    "\"\n",
    "\n",
    "### Caculating the output state\n",
    "\n",
    "For a state with N input modes, there are N modes to transform. The creation operators being transformed are applied $n_i$ times, where $n_i$ is the occupation number of each mode. The output state obiously also depends on the relevant entires of the unitary $\\Lambda$. With this in mind it is hopefully clear that the state after transformation can be written as:\n",
    "\n",
    "\\begin{equation}\n",
    "\\hat{U}\\ket{n_1, n_2, ...,n_N} = \\prod_{i=1}^N \\frac{1}{\\sqrt{n_i!}} \\left(  \\sum^N_{k_i=1} \\Lambda_{ki,}i\\hat{a_{ki}}^\\dagger\\right)\n",
    "\\end{equation}\n",
    "\n",
    "\n"
   ]
  },
  {
   "cell_type": "markdown",
   "metadata": {},
   "source": [
    "With a significant amount of algebra (shown in above reference), one can show that the transition amplitude from the input state to a given output state $ \\ket{m_1, m_2, ...,m_N}$ is found via:\n",
    "\n",
    "\\begin{equation}\n",
    "\\bra{m_1, m_2, ...,m_N}\\hat{U}\\ket{n_1, n_2, ...,n_N} = \\left( \\prod_i n_i!\\right)^{-\\frac{1}{\\sqrt{2}}} \\left( \\prod_i n_i!\\right)^{-\\frac{1}{\\sqrt{2}}} per(\\Lambda[\\Omega'][\\Omega]) \n",
    "\\end{equation}\n",
    "\n",
    "Here we have introduced:\n",
    "\\begin{align}\n",
    "\\Omega= (1^{n_1},2^{n_2},...,N^{n_N}) \\\\\n",
    "\\Omega'=(1^{m_1},2^{m_2},...,N^{m_N} \n",
    "\\end{align}\n",
    "\n",
    "The two product coefficients within the the equation are just combinatorical factors which can be found directly from the state transition being looked at. The term $per(\\Lambda[\\Omega'][\\Omega])$ requires slightly more peicing apart. Following from the definitions in the notation section, $\\Lambda[\\Omega'][\\Omega]$ is a rerformulation of the matrix of the unitary operator $\\Lambda$, with several replacements made so that it describes the transition from an individual term of the input vector to a specific output state being looked at. By taking the permanent of this *transition matrix*, we can calculate the RHS of the equation. For a given output state, we must take find the product of the permanent of the transition matrix corresponding to every term of the input state. The mod^2 of this then gives us the probability of this transition occcuring. This is perhaps seen more clearly in the example below.\n",
    "\n",
    "So we have a method of calculating the transition amplitude from our input state to *a given output state $ \\ket{m_1, m_2, ...,m_N}$*. In order to calculate the full output state we must evaluate the transition amplitude from our input state to every possible output state. In order to do this we enforce photon number conservation by limiting the maximum occupation of each output mode to the total number of input photons across all input modes.\n",
    "  \n",
    "\n"
   ]
  },
  {
   "cell_type": "markdown",
   "metadata": {},
   "source": [
    "### Coded example with explicit steps\n",
    "\n",
    "Lets simulate a HOM dip using the above formalism. Firstly we define our input state and unitary matrix. Note the max mode occupation for each mode is 2 (sum of input photons).\n"
   ]
  },
  {
   "cell_type": "code",
   "execution_count": 31,
   "metadata": {},
   "outputs": [],
   "source": [
    "#Unitary beamsplitter matrix\n",
    "bs_mat= Matrix([[1,1j],[1j,1]])*(1/math.sqrt(2))\n",
    "\n",
    "#Input state with one photon in each mode\n",
    "input_state={(0, 0): 0j, (0, 1): 0j, (0, 2): 0j, (1, 0): 0j, (1, 1): 1, (1, 2): 0j, (2, 0): 0j, (2, 1): 0j, (2, 2): 0j}\n",
    "\n",
    "#Empty output state.\n",
    "output_state={(0, 0): 0j, (0, 1): 0j, (0, 2): 0j, (1, 0): 0j, (1, 1): 0j, (1, 2): 0j, (2, 0): 0j, (2, 1): 0j, (2, 2): 0j}"
   ]
  },
  {
   "cell_type": "markdown",
   "metadata": {},
   "source": [
    "Now define a function which calculates the transition matrix for a single term in the input state vector, and a given term in the output state $ \\ket{m_1, m_2, ...,m_N}$. (i.e $\\ket{010} \\rightarrow \\ket{100})$"
   ]
  },
  {
   "cell_type": "code",
   "execution_count": 32,
   "metadata": {},
   "outputs": [],
   "source": [
    "def create_transition_matrix(unitary,input_vector,output_vector, d=complex):\n",
    "\t\t\"\"\" Function to make appropriate changes to unitary so that it represents the desired transition\n",
    "\t\t\tfrom this we can then find the permanent representing the probability of this transition.\n",
    "\t\t\tThis function must be called for every transition probability required to be calculated.\n",
    "\t\t\"\"\"\n",
    "\t\tno_photons=int(np.sum(input_vector))\n",
    "\t\tcol_swapped_matrix=np.zeros(shape=(no_photons,no_photons),dtype=d)\n",
    "\n",
    "\t\t#If there are more or less input photons than output channels we must reshape the matrix slightly for the following to work\n",
    "\t\t#Definitely exists a more efficient way to do this\n",
    "\n",
    "\t\treshaped_unitary=np.zeros(shape=(no_photons,no_photons),dtype=d)\n",
    "\t\tcol_count=0\n",
    "\t\trow_count=0\n",
    "\n",
    "\t\tfor i in range(len(input_vector)):\n",
    "\t\t\tfor j in range(len(input_vector)):\n",
    "\n",
    "\t\t\t\tif (no_photons-len(input_vector))>=0:\n",
    "\t\t\t\t\treshaped_unitary[i,j]=unitary[i,j]\n",
    "\n",
    "\t\t\t\telif (no_photons-len(input_vector))<0:\n",
    "\t\t\t\n",
    "\t\t\t\t\tif input_vector[i]!=0 and output_vector[j]!=0:\n",
    "\t\t\t\t\t\treshaped_unitary[row_count,col_count]=unitary[i,j]\n",
    "\t\t\t\t\t\tcol_count+=1\n",
    "\t\t\t\t\t\trow_count+=1\n",
    "\n",
    "\t\t#Special case of matrix with only 1 photon in and out\n",
    "\t\tif len(reshaped_unitary)==1:\n",
    "\t\t\treturn reshaped_unitary[0]\n",
    "\n",
    "\n",
    "\t\t#Make the column swaps required for the given input vector.\n",
    "\t\tcol_counter=0\n",
    "\t\tfor k in range(len(input_vector)):\n",
    "\t\t\tif input_vector[k]==0:\n",
    "\t\t\t\tcontinue\n",
    "\t\t\telse:\n",
    "\t\t\t\tfor j in range(input_vector[k]):\n",
    "\t\t\t\t\tcol_swapped_matrix[:,col_counter+j]=copy.deepcopy(reshaped_unitary[:,k])\n",
    "\t\t\t\tcol_counter+=1+j\n",
    "\n",
    "\n",
    "\t\t#Make the row swaps required for a given output vector\n",
    "\t\ttransition_matrix=copy.deepcopy(col_swapped_matrix)\n",
    "\t\trow_counter=0\n",
    "\t\tfor p in range(len(output_vector)):\n",
    "\t\t\tif output_vector[p]==0:\n",
    "\t\t\t\tcontinue\n",
    "\t\t\telse:\n",
    "\t\t\t\tfor r in range(output_vector[p]):\n",
    "\t\t\t\t\ttransition_matrix[row_counter+r,:]=copy.deepcopy(col_swapped_matrix[p,:])\n",
    "\t\t\t\trow_counter+=1+r\n",
    "\n",
    "\t\t\n",
    "\t\treturn transition_matrix"
   ]
  },
  {
   "cell_type": "markdown",
   "metadata": {},
   "source": [
    "Write a function which calculates the permanent of a given matrix: https://github.com/scipy/scipy/issues/7151"
   ]
  },
  {
   "cell_type": "code",
   "execution_count": 33,
   "metadata": {},
   "outputs": [],
   "source": [
    "def calculate_permanent(M):\n",
    "\t\t\"\"\" Manual permanent function for cases where thewalrus\n",
    "\t\tfails to install. As of 04/02/21 no thewalrus wheel\n",
    "\t\tfor python 3.9. Slower than thewalrus, taken from:\n",
    "\t\thttps://github.com/scipy/scipy/issues/7151\"\"\"\n",
    "\t\t\n",
    "\t\tn = M.shape[0]\n",
    "\t\td = np.ones(n)\n",
    "\t\tj =  0\n",
    "\t\ts = 1\n",
    "\t\tf = np.arange(n)\n",
    "\t\tv = M.sum(axis=0)\n",
    "\t\tp = np.prod(v)\n",
    "\n",
    "\t\twhile (j < n-1):\n",
    "\t\t\tv -= 2*d[j]*M[j]\n",
    "\t\t\td[j] = -d[j]\n",
    "\t\t\ts = -s\n",
    "\t\t\tprod = np.prod(v)\n",
    "\t\t\tp += s*prod\n",
    "\t\t\tf[0] = 0\n",
    "\t\t\tf[j] = f[j+1]\n",
    "\t\t\tf[j+1] = j+1\n",
    "\t\t\tj = f[0]\n",
    "\t\treturn p/2**(n-1)"
   ]
  },
  {
   "cell_type": "markdown",
   "metadata": {},
   "source": [
    "Now we need to loop over every element in the input state with a non 0 amplitude and calculate every transition probability for that given element. i.e for if we have a  $\\ket{11}$ input term we must evaulate the transition amplitudes to all number preserving outputs, $\\ket{11},\\ket{02},\\ket{20}$. Each component of the output state will have transition amplitudes from multiple parts of the input state and these must be summed. For example $\\ket{10}$ will have contributions from $\\ket{10},\\ket{01}$ input terms. Once we have done this looping over every input term, for every possible output term we are returned our output state vector."
   ]
  },
  {
   "cell_type": "code",
   "execution_count": 34,
   "metadata": {},
   "outputs": [],
   "source": [
    "def calculate_output_amplitudes(unitary, input_vector):\n",
    "\t\t\"\"\"Using the probability expression in 'Permanents in linear optical networks' Scheel 2004,\n",
    "\t\twe calculate the probability of each transition and store it in an array.\n",
    "\t\tIn the fully quantum case we need to calculate all possible contributions to the output state\n",
    "\t\tthat is we need to loop over every element in the input state with a non 0 amplitude\n",
    "\t\tand calculate every transition probability for that element.\n",
    "\t\t\"\"\"\n",
    "\t\tstate_vector_elements=[list(key) for key in input_vector]\n",
    "\t\tinput_amplitudes=list(input_vector.values() )\n",
    "\t\toutput_amplitudes=np.zeros(shape=(len(input_amplitudes)), dtype=complex)\n",
    "\n",
    "\t\t#If the walrus not installed use manual permanent calc\n",
    "\t\tis_walrus_alive = importlib.util.find_spec(name='thewalrus')\n",
    "\t\n",
    "\n",
    "\t\n",
    "\t\t#For every element of the input state vector\n",
    "\t\t\n",
    "\t\tfor i in range(len(state_vector_elements)):\n",
    "\t\t\tinput_element=state_vector_elements[i]\n",
    "\t\t\t#Loop over every possible outcome\n",
    "\t\t\tfor k in range(len(state_vector_elements)):\n",
    "\t\t\t\telement=state_vector_elements[k]\n",
    "\n",
    "\t\t\t\t#If it has a non zero amplitude\n",
    "\t\t\t\t#only consider photon number preserving transitions as these should evaluate to 0 anyway (true?)\n",
    "\t\t\t\tif input_amplitudes[i] != 0 and np.sum(input_element)==np.sum(element): \n",
    "\t\t\t\t\n",
    "\t\t\t\t\t#print('The transition being calculated is ', input_element, element )\n",
    "\n",
    "\t\t\t\t\ttrans_matrix=create_transition_matrix(unitary, input_element, element)\n",
    "\n",
    "\n",
    "\t\t\t\t\tif len(trans_matrix)==1:\n",
    "\t\t\t\t\t\toutput_amplitudes[i]+=(np.abs(trans_matrix[0])**2)*input_amplitudes[i]\n",
    "\t\t\t\t\t\t\n",
    "\t\t\t\t\telse:\n",
    "\t\t\t\t\t\tprefactor=1\n",
    "\n",
    "\t\t\t\t\t\tif is_walrus_alive is None:\n",
    "\t\t\t\t\t\t\tperm=calculate_permanent(trans_matrix)\n",
    "\t\t\t\t\t\telse:\n",
    "\t\t\t\t\t\t\tperm=thewalrus.perm(trans_matrix)\n",
    "\t\t\t\t\t\t\n",
    "\t\t\t\t\t\tfor m in range(len(input_element)):\n",
    "\t\t\t\t\t\t\tprefactor=prefactor*(1/math.sqrt(math.factorial(input_element[m])))*(1/math.sqrt(math.factorial(element[m])))\n",
    "\t\t\t\t\t\t\n",
    "\t\t\t\t\t\toutput_amplitudes[k]+=np.around(perm*prefactor, decimals=6)*input_amplitudes[i]\n",
    "\t\t\t\t\t\t\n",
    "\t\t\n",
    "\t\treturn output_amplitudes"
   ]
  },
  {
   "cell_type": "markdown",
   "metadata": {},
   "source": [
    "Now we feed out input state of one photon in each mode into out beamsplitter and calculate the output state:"
   ]
  },
  {
   "cell_type": "code",
   "execution_count": 37,
   "metadata": {},
   "outputs": [
    {
     "name": "stdout",
     "output_type": "stream",
     "text": [
      "The output state is: {(0, 0): 0j, (0, 1): 0j, (0, 2): 0.707107j, (1, 0): 0j, (1, 1): 0j, (1, 2): 0j, (2, 0): 0.707107j, (2, 1): 0j, (2, 2): 0j}\n"
     ]
    }
   ],
   "source": [
    "output_amplitudes=calculate_output_amplitudes(bs_mat, input_state)\n",
    "\n",
    "#update the output state dictionary with the new amplitudes\n",
    "it=0\n",
    "for key in output_state:\n",
    "\t\toutput_state[key]=output_amplitudes[it]\n",
    "\t\tit+=1\n",
    "\n",
    "print('The output state is:', output_state)"
   ]
  },
  {
   "cell_type": "markdown",
   "metadata": {},
   "source": [
    "What you see above should hopefully be $\\frac{i}{\\sqrt(2)}(\\ket{20}+\\ket{02})$. We've simulated a HOM dip! \n",
    "\n",
    "Hopefully its clear that this is an extremely expensive calculation for large interferometers. The complexity of this calculation in general is exactly the complexity of classically simulating boson sampling (exactly what this example is). "
   ]
  }
 ],
 "metadata": {
  "kernelspec": {
   "display_name": "Python 3",
   "language": "python",
   "name": "python3"
  },
  "language_info": {
   "codemirror_mode": {
    "name": "ipython",
    "version": 3
   },
   "file_extension": ".py",
   "mimetype": "text/x-python",
   "name": "python",
   "nbconvert_exporter": "python",
   "pygments_lexer": "ipython3",
   "version": "3.7.3"
  }
 },
 "nbformat": 4,
 "nbformat_minor": 2
}
