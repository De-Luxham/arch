{
 "cells": [
  {
   "cell_type": "code",
   "execution_count": 26,
   "metadata": {},
   "outputs": [],
   "source": [
    "import sympy as sy\n",
    "import sympy.abc\n",
    "import matplotlib.pyplot as plt\n",
    "import numpy as np\n",
    "import control as pc"
   ]
  },
  {
   "cell_type": "markdown",
   "metadata": {},
   "source": [
    "Part of the big question is whether we are simulating the dynamic response, or the steady-state mathematics iterations. Here below is the steady state reponse mathamtical system design, rather than a dynamic diffferential changes with time. Hence, Python's control toolbox cannot solve a steady-state response of a already stable system. However, attempting to perform a fully stable model means that if we want to perform feedback, there's a factor of recalculating stability from that until differential changes become 0 at different time-steps. So for example, if you were to perform feedback after an initial state, you can get a steady state reponse, but this is not the dynamic response, this is solving for the right answer after a number of iterations, and all the initial steady-state answers are wrong for a feedback system. So this gives a steady state response. If we change an input signal also at another point of time, then there is a new steady state response, but the question is whether you want to account for the time dynamics. Because currently, the system is accounting for the digital computing dynamics rather than the actual transient model, so you can't account for how the system dynamically responds and results in a real-time steady-state. So if an input changes in time, you can actually model the time differential change. If we begin considering delays and inputs into the rest of the system, we need to model time as time and computations as computations - and hence we need a time variable input.\n",
    "\n",
    "There's also the aspect that optics is fundamentally linear and 3D, so how do we account for differential changes in it? What is its dynamic response? There are only dynamic changes on dynamic inputs. What are time changes in optics? You could argue it is near instantaneous. So there's group delay as the time it takes for light to travel through the waveguide, specially if it has been affected in any way. So there is a need to model transient and steady-state responses, but each of these models should be kept separate.\n",
    "\n",
    "Now, getting a time domain model of a thermo-optic phase shifter response is non-trivial nor necessarily accurate. So, time is a completely new thing in the optical domain for these type of modelled systems. Yes, there is propagation time effects.\n",
    "\n",
    "Let's consider an MZI, in one arm there's light going over a certain length which incurrs a certain propagation time. Assuming we're only in steady-state mode, when does change occur? You can differtiate phase shift against length for example, but you would be discretizing space-wise. So imagine Pac-Mans moving in a grid of time, according to their position, their properties change, such as phase and this is also dependent in temperature at a given position, but then there must be a differential in temperature and length to calculate a steady state response. So there's this big aspect of time differentials. Could we work based purely on steady-state time differentials? Actually, that could work. There's also the factor of where to add delays, but if we consider every wavelength arm as a system, then we can simply follow the basic principles of control theory.\n",
    "\n",
    "Hence, the time discretization must occur at a fraction of the time of propagation of the shortest path in the model. \n",
    "\n"
   ]
  },
  {
   "cell_type": "markdown",
   "metadata": {},
   "source": [
    "Let's assume an input to a combiner $E_0(t)$, hence each path signal input becomes $E_1 = E_2 = \\frac{E_0}{\\sqrt{2}}$."
   ]
  },
  {
   "cell_type": "markdown",
   "metadata": {},
   "source": [
    "Beamsplitter Splitter Input at 50/50%\n",
    "\\begin{equation}\n",
    "\\begin{bmatrix} E_{1} \\\\ E_{2} \\end{bmatrix} =\n",
    "\\frac{E_0}{\\sqrt{2}}  = \\begin{bmatrix} r_{ac}& t_{bc} \\\\  t_{ad}& r_{bd} \\end{bmatrix}\\begin{bmatrix} E_0 \\\\ E_0 \\end{bmatrix}  =  \\begin{bmatrix} \\sqrt{r} &  i\\sqrt{1-r} \\\\  i\\sqrt{1-r} &  \\sqrt{r}  \\end{bmatrix}\n",
    "\\begin{bmatrix} E_0 \\\\ E_0 \\end{bmatrix} \n",
    "\\end{equation}"
   ]
  },
  {
   "cell_type": "markdown",
   "metadata": {},
   "source": [
    "Beamsplitter Combiner Output for 50/50\n",
    "\n",
    "\\begin{equation}\n",
    "E_3 = \\frac{E_1 + E_2}{\\sqrt{2}} = \\frac{1}{\\sqrt{2}}  \\begin{bmatrix} 1 & 1 \\end{bmatrix}\n",
    "\\begin{bmatrix} E_1 \\\\ E_2 \\end{bmatrix} = \\begin{bmatrix} \\sqrt{r} &  i\\sqrt{1-r} \\\\  0 & 0  \\end{bmatrix}\n",
    "\\begin{bmatrix} E_1 \\\\ E_2 \\end{bmatrix} \n",
    "\\end{equation}"
   ]
  },
  {
   "cell_type": "markdown",
   "metadata": {},
   "source": [
    "Assuming a phase shifter on top arm\n",
    "\\begin{equation}\n",
    "\\textbf{ $\\Phi$ } = \\begin{bmatrix} e^{i\\phi} & 0 \\\\ 0 & 1\\end{bmatrix}\n",
    "\\end{equation}\n",
    "\n",
    "Note we're not yet taking into account Linear and LinearGroup delay, or the quantum probability variable within the design of the device.\n",
    "Also, for us to be able to have a simulateable model, it must be a finite model - ie steady state must be able to be reached.\n",
    "\n",
    "The standard model of a 1D light electromagnetic wave is:\n",
    "\n",
    "$$E_0(t, z) = E_0 e^{j (wt - \\beta z)}$$"
   ]
  },
  {
   "cell_type": "markdown",
   "metadata": {},
   "source": [
    "There's the question as well whether a given model can reach this steady state by ignoring the complex propagation constant of the model? Because if it cannot, then there's no point following the rest of the derivation.\n",
    "\n",
    "For a 1x1 MZI, we can represent this as a Beamsplitter Splitter - Phase shifter on a length - Beamsplitter Combiner"
   ]
  },
  {
   "cell_type": "markdown",
   "metadata": {},
   "source": [
    "\\begin{equation}\n",
    "E_3 = \\begin{bmatrix} \\sqrt{r} &  i\\sqrt{1-r} \\\\  0 & 0  \\end{bmatrix}\n",
    "\\begin{bmatrix} e^{i\\phi} & 0 \\\\ 0 & 1\\end{bmatrix}\n",
    "\\begin{bmatrix} \\sqrt{r} &  i\\sqrt{1-r} \\\\  i\\sqrt{1-r} &  \\sqrt{r}  \\end{bmatrix}\n",
    "\\begin{bmatrix} E_0 \\\\ E_0 \\end{bmatrix} \n",
    "\\end{equation}"
   ]
  },
  {
   "cell_type": "code",
   "execution_count": 2,
   "metadata": {},
   "outputs": [],
   "source": [
    "t = sy.Symbol(\"t\")\n",
    "T = sy.Symbol(\"T\")\n",
    "E_0 = sy.Function(\"E_0\")(t)\n",
    "n = sy.Function(\"n\")(t,T)\n",
    "\n",
    "E_0_s = sy.Symbol(\"E_0\")\n",
    "E_1 = E_2 = E_0 / sy.sqrt(2)\n",
    "L = sy.Symbol(\"L\")\n",
    "lambda_0 = sy.Symbol(\"\\lambda_0\")\n",
    "phi = sy.Function(\"\\phi\")(t)\n",
    "r_0, r_1 = sy.symbols(\"r_0 r_1\")\n",
    "\n",
    "dE_0_s = sy.Symbol(\"dE_0\")\n",
    "dE_1_s = sy.Symbol(\"dE_1\")\n",
    "d_phi_d_t_s = sy.Symbol(\"d\\phi\")\n"
   ]
  },
  {
   "cell_type": "code",
   "execution_count": 3,
   "metadata": {},
   "outputs": [
    {
     "data": {
      "text/latex": [
       "$\\displaystyle \\left[\\begin{matrix}\\left(i \\sqrt{r_{0}} \\sqrt{1 - r_{1}} + i \\sqrt{r_{1}} \\sqrt{1 - r_{0}} e^{i \\phi{\\left(t \\right)}}\\right) \\operatorname{E_{0}}{\\left(t \\right)} + \\left(\\sqrt{r_{0}} \\sqrt{r_{1}} e^{i \\phi{\\left(t \\right)}} - \\sqrt{1 - r_{0}} \\sqrt{1 - r_{1}}\\right) \\operatorname{E_{0}}{\\left(t \\right)}\\\\0\\end{matrix}\\right]$"
      ],
      "text/plain": [
       "Matrix([\n",
       "[(I*sqrt(r_0)*sqrt(1 - r_1) + I*sqrt(r_1)*sqrt(1 - r_0)*exp(I*\\phi(t)))*E_0(t) + (sqrt(r_0)*sqrt(r_1)*exp(I*\\phi(t)) - sqrt(1 - r_0)*sqrt(1 - r_1))*E_0(t)],\n",
       "[                                                                                                                                                        0]])"
      ]
     },
     "execution_count": 3,
     "metadata": {},
     "output_type": "execute_result"
    }
   ],
   "source": [
    "splitter_beamsplitter  = sy.Matrix([[sy.sqrt(r_0), sy.I*sy.sqrt(1 - r_0)],\n",
    "\t\t\t\t[sy.I*sy.sqrt(1 - r_0), sy.sqrt(r_0)]])\n",
    "combiner_beamsplitter  = sy.Matrix([[sy.sqrt(r_1), sy.I*sy.sqrt(1 - r_1)],\n",
    "\t\t\t\t[0,0]])\n",
    "phase_changer = sy.Matrix([[sy.exp(sy.I * phi), 0],\n",
    "\t\t\t\t[0, 1]])\n",
    "E = sy.Matrix([[E_0], [E_0]])\n",
    "\n",
    "out = combiner_beamsplitter * phase_changer * splitter_beamsplitter * E\n",
    "out"
   ]
  },
  {
   "cell_type": "code",
   "execution_count": 4,
   "metadata": {},
   "outputs": [
    {
     "data": {
      "text/latex": [
       "$\\displaystyle \\left[\\begin{matrix}dE_{0} \\left(i \\sqrt{r_{0}} \\sqrt{1 - r_{1}} + i \\sqrt{r_{1}} \\sqrt{1 - r_{0}} e^{i \\phi{\\left(t \\right)}}\\right) + dE_{0} \\left(\\sqrt{r_{0}} \\sqrt{r_{1}} e^{i \\phi{\\left(t \\right)}} - \\sqrt{1 - r_{0}} \\sqrt{1 - r_{1}}\\right) + i \\sqrt{r_{0}} \\sqrt{r_{1}} \\operatorname{E_{0}}{\\left(t \\right)} e^{i \\phi{\\left(t \\right)}} \\frac{d}{d t} \\phi{\\left(t \\right)} - \\sqrt{r_{1}} \\sqrt{1 - r_{0}} \\operatorname{E_{0}}{\\left(t \\right)} e^{i \\phi{\\left(t \\right)}} \\frac{d}{d t} \\phi{\\left(t \\right)}\\\\0\\end{matrix}\\right]$"
      ],
      "text/plain": [
       "Matrix([\n",
       "[dE_0*(I*sqrt(r_0)*sqrt(1 - r_1) + I*sqrt(r_1)*sqrt(1 - r_0)*exp(I*\\phi(t))) + dE_0*(sqrt(r_0)*sqrt(r_1)*exp(I*\\phi(t)) - sqrt(1 - r_0)*sqrt(1 - r_1)) + I*sqrt(r_0)*sqrt(r_1)*E_0(t)*exp(I*\\phi(t))*Derivative(\\phi(t), t) - sqrt(r_1)*sqrt(1 - r_0)*E_0(t)*exp(I*\\phi(t))*Derivative(\\phi(t), t)],\n",
       "[                                                                                                                                                                                                                                                                                                0]])"
      ]
     },
     "execution_count": 4,
     "metadata": {},
     "output_type": "execute_result"
    }
   ],
   "source": [
    "differential_time_response = out.diff(t)\n",
    "differential_time_response = differential_time_response.replace(E_0.diff(t), dE_0_s)\n",
    "differential_time_response"
   ]
  },
  {
   "cell_type": "markdown",
   "metadata": {},
   "source": [
    "The problem becomes an equilibrium condition to solve. One could argue that when the output is in equilibrium or in steady state:\n",
    "\n",
    "\\begin{equation}\n",
    "\\begin{bmatrix} \\frac{dE_{3}}{dt}  \\\\ 0 \\end{bmatrix}  = 0\n",
    "\\end{equation}"
   ]
  },
  {
   "cell_type": "code",
   "execution_count": 5,
   "metadata": {},
   "outputs": [
    {
     "data": {
      "text/latex": [
       "$\\displaystyle \\frac{E_{0} d\\phi \\sqrt{r_{1}} \\left(- i \\sqrt{r_{0}} + \\sqrt{1 - r_{0}}\\right) e^{i \\phi{\\left(t \\right)}}}{\\sqrt{r_{0}} \\sqrt{r_{1}} e^{i \\phi{\\left(t \\right)}} + i \\sqrt{r_{0}} \\sqrt{1 - r_{1}} + i \\sqrt{r_{1}} \\sqrt{1 - r_{0}} e^{i \\phi{\\left(t \\right)}} - \\sqrt{1 - r_{0}} \\sqrt{1 - r_{1}}}$"
      ],
      "text/plain": [
       "E_0*d\\phi*sqrt(r_1)*(-I*sqrt(r_0) + sqrt(1 - r_0))*exp(I*\\phi(t))/(sqrt(r_0)*sqrt(r_1)*exp(I*\\phi(t)) + I*sqrt(r_0)*sqrt(1 - r_1) + I*sqrt(r_1)*sqrt(1 - r_0)*exp(I*\\phi(t)) - sqrt(1 - r_0)*sqrt(1 - r_1))"
      ]
     },
     "execution_count": 5,
     "metadata": {},
     "output_type": "execute_result"
    }
   ],
   "source": [
    "dE_0_d_t = sy.solve(differential_time_response[0], dE_0_s)[0]\n",
    "dE_0_d_t = dE_0_d_t.replace(E_0, E_0_s)\n",
    "dE_0_d_t = dE_0_d_t.replace(phi.diff(t), d_phi_d_t_s)\n",
    "dE_0_d_t"
   ]
  },
  {
   "cell_type": "code",
   "execution_count": 6,
   "metadata": {},
   "outputs": [
    {
     "data": {
      "text/plain": [
       "6"
      ]
     },
     "execution_count": 6,
     "metadata": {},
     "output_type": "execute_result"
    }
   ],
   "source": [
    "c = sy.abc.a + sy.abc.b\n",
    "d = sy.lambdify([sy.abc.a, sy.abc.b], c)\n",
    "d(3,3)"
   ]
  },
  {
   "cell_type": "code",
   "execution_count": 60,
   "metadata": {},
   "outputs": [
    {
     "data": {
      "text/plain": [
       "-2.5000000000000004"
      ]
     },
     "execution_count": 60,
     "metadata": {},
     "output_type": "execute_result"
    }
   ],
   "source": [
    "t = sy.lambdify([E_0_s, r_0, r_1, phi, d_phi_d_t_s], dE_0_d_t)\n",
    "A = t(1,0.5,0.5,4,5)\n",
    "np.imag(A)"
   ]
  },
  {
   "cell_type": "code",
   "execution_count": 85,
   "metadata": {},
   "outputs": [
    {
     "name": "stderr",
     "output_type": "stream",
     "text": [
      "/Users/daquintero/opt/anaconda3/lib/python3.8/site-packages/numpy/matrixlib/defmatrix.py:147: ComplexWarning: Casting complex values to real discards the imaginary part\n",
      "  arr = N.array(data, dtype=dtype, copy=copy)\n"
     ]
    },
    {
     "data": {
      "text/plain": [
       "(array([0.        , 0.00685368, 0.01370736, 0.02056104, 0.02741472,\n",
       "        0.0342684 , 0.04112207, 0.04797575, 0.05482943, 0.06168311,\n",
       "        0.06853679, 0.07539047, 0.08224415, 0.08909783, 0.09595151,\n",
       "        0.10280519, 0.10965886, 0.11651254, 0.12336622, 0.1302199 ,\n",
       "        0.13707358, 0.14392726, 0.15078094, 0.15763462, 0.1644883 ,\n",
       "        0.17134198, 0.17819566, 0.18504933, 0.19190301, 0.19875669,\n",
       "        0.20561037, 0.21246405, 0.21931773, 0.22617141, 0.23302509,\n",
       "        0.23987877, 0.24673245, 0.25358612, 0.2604398 , 0.26729348,\n",
       "        0.27414716, 0.28100084, 0.28785452, 0.2947082 , 0.30156188,\n",
       "        0.30841556, 0.31526924, 0.32212292, 0.32897659, 0.33583027,\n",
       "        0.34268395, 0.34953763, 0.35639131, 0.36324499, 0.37009867,\n",
       "        0.37695235, 0.38380603, 0.39065971, 0.39751339, 0.40436706,\n",
       "        0.41122074, 0.41807442, 0.4249281 , 0.43178178, 0.43863546,\n",
       "        0.44548914, 0.45234282, 0.4591965 , 0.46605018, 0.47290385,\n",
       "        0.47975753, 0.48661121, 0.49346489, 0.50031857, 0.50717225,\n",
       "        0.51402593, 0.52087961, 0.52773329, 0.53458697, 0.54144065,\n",
       "        0.54829432, 0.555148  , 0.56200168, 0.56885536, 0.57570904,\n",
       "        0.58256272, 0.5894164 , 0.59627008, 0.60312376, 0.60997744,\n",
       "        0.61683111, 0.62368479, 0.63053847, 0.63739215, 0.64424583,\n",
       "        0.65109951, 0.65795319, 0.66480687, 0.67166055, 0.67851423]),\n",
       " array([0.00000000e+00, 1.75348537e-03, 3.58960997e-03, 5.51226845e-03,\n",
       "        7.52553903e-03, 9.63369213e-03, 1.18411994e-02, 1.41527433e-02,\n",
       "        1.65732270e-02, 1.91077844e-02, 2.17617920e-02, 2.45408790e-02,\n",
       "        2.74509404e-02, 3.04981487e-02, 3.36889675e-02, 3.70301650e-02,\n",
       "        4.05288283e-02, 4.41923785e-02, 4.80285865e-02, 5.20455895e-02,\n",
       "        5.62519079e-02, 6.06564640e-02, 6.52686005e-02, 7.00981002e-02,\n",
       "        7.51552073e-02, 8.04506484e-02, 8.59956561e-02, 9.18019918e-02,\n",
       "        9.78819718e-02, 1.04248492e-01, 1.10915058e-01, 1.17895809e-01,\n",
       "        1.25205553e-01, 1.32859794e-01, 1.40874768e-01, 1.49267477e-01,\n",
       "        1.58055722e-01, 1.67258144e-01, 1.76894263e-01, 1.86984518e-01,\n",
       "        1.97550312e-01, 2.08614057e-01, 2.20199220e-01, 2.32330375e-01,\n",
       "        2.45033253e-01, 2.58334800e-01, 2.72263229e-01, 2.86848086e-01,\n",
       "        3.02120305e-01, 3.18112281e-01, 3.34857937e-01, 3.52392790e-01,\n",
       "        3.70754036e-01, 3.89980621e-01, 4.10113327e-01, 4.31194858e-01,\n",
       "        4.53269931e-01, 4.76385370e-01, 5.00590206e-01, 5.25935781e-01,\n",
       "        5.52475856e-01, 5.80266727e-01, 6.09367340e-01, 6.39839424e-01,\n",
       "        6.71747612e-01, 7.05159587e-01, 7.40146220e-01, 7.76781722e-01,\n",
       "        8.15143802e-01, 8.55313831e-01, 8.97377016e-01, 9.41422577e-01,\n",
       "        9.87543941e-01, 1.03583894e+00, 1.08641001e+00, 1.13936442e+00,\n",
       "        1.19481450e+00, 1.25287786e+00, 1.31367765e+00, 1.37734286e+00,\n",
       "        1.44400852e+00, 1.51381603e+00, 1.58691346e+00, 1.66345587e+00,\n",
       "        1.74360562e+00, 1.82753271e+00, 1.91541515e+00, 2.00743938e+00,\n",
       "        2.10380056e+00, 2.20470312e+00, 2.31036106e+00, 2.42099850e+00,\n",
       "        2.53685013e+00, 2.65816168e+00, 2.78519047e+00, 2.91820594e+00,\n",
       "        3.05749023e+00, 3.20333879e+00, 3.35606098e+00, 3.51598075e+00]))"
      ]
     },
     "execution_count": 85,
     "metadata": {},
     "output_type": "execute_result"
    }
   ],
   "source": [
    "s= pc.step_response(pc.ss(A,0.5,0.5,0))\n",
    "s"
   ]
  },
  {
   "cell_type": "code",
   "execution_count": 90,
   "metadata": {},
   "outputs": [
    {
     "data": {
      "text/plain": [
       "[<matplotlib.lines.Line2D at 0x7f96935912b0>]"
      ]
     },
     "execution_count": 90,
     "metadata": {},
     "output_type": "execute_result"
    },
    {
     "data": {
      "image/png": "[encoded data removed]",
      "text/plain": [
       "<Figure size 432x288 with 1 Axes>"
      ]
     },
     "metadata": {
      "needs_background": "light"
     },
     "output_type": "display_data"
    }
   ],
   "source": [
    "plt.plot(s[0], s[1])"
   ]
  },
  {
   "cell_type": "code",
   "execution_count": 91,
   "metadata": {},
   "outputs": [
    {
     "name": "stderr",
     "output_type": "stream",
     "text": [
      "/Users/daquintero/opt/anaconda3/lib/python3.8/site-packages/numpy/matrixlib/defmatrix.py:147: ComplexWarning: Casting complex values to real discards the imaginary part\n",
      "  arr = N.array(data, dtype=dtype, copy=copy)\n"
     ]
    },
    {
     "data": {
      "text/plain": [
       "(array([0.        , 0.00685368, 0.01370736, 0.02056104, 0.02741472,\n",
       "        0.0342684 , 0.04112207, 0.04797575, 0.05482943, 0.06168311,\n",
       "        0.06853679, 0.07539047, 0.08224415, 0.08909783, 0.09595151,\n",
       "        0.10280519, 0.10965886, 0.11651254, 0.12336622, 0.1302199 ,\n",
       "        0.13707358, 0.14392726, 0.15078094, 0.15763462, 0.1644883 ,\n",
       "        0.17134198, 0.17819566, 0.18504933, 0.19190301, 0.19875669,\n",
       "        0.20561037, 0.21246405, 0.21931773, 0.22617141, 0.23302509,\n",
       "        0.23987877, 0.24673245, 0.25358612, 0.2604398 , 0.26729348,\n",
       "        0.27414716, 0.28100084, 0.28785452, 0.2947082 , 0.30156188,\n",
       "        0.30841556, 0.31526924, 0.32212292, 0.32897659, 0.33583027,\n",
       "        0.34268395, 0.34953763, 0.35639131, 0.36324499, 0.37009867,\n",
       "        0.37695235, 0.38380603, 0.39065971, 0.39751339, 0.40436706,\n",
       "        0.41122074, 0.41807442, 0.4249281 , 0.43178178, 0.43863546,\n",
       "        0.44548914, 0.45234282, 0.4591965 , 0.46605018, 0.47290385,\n",
       "        0.47975753, 0.48661121, 0.49346489, 0.50031857, 0.50717225,\n",
       "        0.51402593, 0.52087961, 0.52773329, 0.53458697, 0.54144065,\n",
       "        0.54829432, 0.555148  , 0.56200168, 0.56885536, 0.57570904,\n",
       "        0.58256272, 0.5894164 , 0.59627008, 0.60312376, 0.60997744,\n",
       "        0.61683111, 0.62368479, 0.63053847, 0.63739215, 0.64424583,\n",
       "        0.65109951, 0.65795319, 0.66480687, 0.67166055, 0.67851423]),\n",
       " array([ 0.25      ,  0.26178214,  0.27411955,  0.28703841,  0.30056611,\n",
       "         0.31473135,  0.32956418,  0.34509607,  0.36135994,  0.37839031,\n",
       "         0.3962233 ,  0.41489673,  0.43445021,  0.45492521,  0.47636518,\n",
       "         0.49881558,  0.52232403,  0.54694041,  0.57271691,  0.59970823,\n",
       "         0.62797161,  0.657567  ,  0.68855718,  0.72100788,  0.75498793,\n",
       "         0.79056942,  0.8278278 ,  0.86684213,  0.90769514,  0.95047349,\n",
       "         0.99526793,  1.04217346,  1.09128958,  1.14272047,  1.19657523,\n",
       "         1.25296808,  1.31201865,  1.37385218,  1.43859984,  1.50639897,\n",
       "         1.57739336,  1.65173362,  1.72957743,  1.8110899 ,  1.89644394,\n",
       "         1.98582059,  2.07940943,  2.17740897,  2.2800271 ,  2.38748147,\n",
       "         2.5       ,  2.61782137,  2.74119549,  2.87038405,  3.00566109,\n",
       "         3.14731353,  3.29564185,  3.45096066,  3.61359943,  3.78390312,\n",
       "         3.96223298,  4.14896727,  4.34450207,  4.54925215,  4.76365179,\n",
       "         4.98815579,  5.22324033,  5.46940406,  5.72716913,  5.9970823 ,\n",
       "         6.27971608,  6.57566998,  6.88557176,  7.21007876,  7.5498793 ,\n",
       "         7.90569415,  8.27827804,  8.66842126,  9.07695137,  9.50473491,\n",
       "         9.95267926, 10.42173459, 10.91289581, 11.42720474, 11.96575231,\n",
       "        12.52968084, 13.12018651, 13.73852185, 14.38599843, 15.06398965,\n",
       "        15.77393361, 16.5173362 , 17.29577427, 18.110899  , 18.96443938,\n",
       "        19.85820587, 20.79409428, 21.77408975, 22.80027098, 23.87481465]))"
      ]
     },
     "execution_count": 91,
     "metadata": {},
     "output_type": "execute_result"
    }
   ],
   "source": [
    "s= pc.impulse_response(pc.ss(A,0.5,0.5,0))\n",
    "s"
   ]
  },
  {
   "cell_type": "markdown",
   "metadata": {},
   "source": [
    "So now we've got a state-space representation in the form $\\dot{\\textbf{x}} = \\textbf{Ax}$, where our state variable is $E_0$, nonlinear input $\\phi$, $\\textbf{B} = \\textbf{D} = 0 $, and $\\textbf{C} = 0 $\n",
    "\n",
    "Issues with state space modelling with complex numbers https://dsp.stackexchange.com/questions/53554/how-to-model-state-space-for-complex-valued-system-correctly-in-simulink-matlab"
   ]
  },
  {
   "cell_type": "code",
   "execution_count": 92,
   "metadata": {},
   "outputs": [
    {
     "data": {
      "text/plain": [
       "[<matplotlib.lines.Line2D at 0x7f9693655190>]"
      ]
     },
     "execution_count": 92,
     "metadata": {},
     "output_type": "execute_result"
    },
    {
     "data": {
      "image/png": "[encoded data removed]",
      "text/plain": [
       "<Figure size 432x288 with 1 Axes>"
      ]
     },
     "metadata": {
      "needs_background": "light"
     },
     "output_type": "display_data"
    }
   ],
   "source": [
    "plt.plot(s[0], s[1])"
   ]
  },
  {
   "cell_type": "markdown",
   "metadata": {},
   "source": [
    "Part of the big question of this solution is related to the nonlinear relationship of $\\frac{d \\phi(t)}{dt}$"
   ]
  },
  {
   "cell_type": "markdown",
   "metadata": {},
   "source": [
    "We know phase change is $ \\frac{d\\phi}{dT} = \\frac{2 \\pi L}{\\lambda_0} \\frac{dn}{dT}$"
   ]
  },
  {
   "cell_type": "code",
   "execution_count": 7,
   "metadata": {},
   "outputs": [
    {
     "data": {
      "text/latex": [
       "$\\displaystyle \\frac{2 \\pi L \\frac{\\partial}{\\partial t} n{\\left(t,T \\right)}}{\\lambda_0}$"
      ],
      "text/plain": [
       "2*pi*L*Derivative(n(t, T), t)/\\lambda_0"
      ]
     },
     "execution_count": 7,
     "metadata": {},
     "output_type": "execute_result"
    }
   ],
   "source": [
    "d_phi_d_T = 2 * sy.pi * L  * n.diff(T)/ lambda_0\n",
    "phi_T = sy.integrate(d_phi_d_T, T)\n",
    "phi_T.diff(t)"
   ]
  },
  {
   "cell_type": "code",
   "execution_count": null,
   "metadata": {},
   "outputs": [],
   "source": []
  }
 ],
 "metadata": {
  "kernelspec": {
   "display_name": "Python 3",
   "language": "python",
   "name": "python3"
  },
  "language_info": {
   "codemirror_mode": {
    "name": "ipython",
    "version": 3
   },
   "file_extension": ".py",
   "mimetype": "text/x-python",
   "name": "python",
   "nbconvert_exporter": "python",
   "pygments_lexer": "ipython3",
   "version": "3.8.3"
  }
 },
 "nbformat": 4,
 "nbformat_minor": 4
}
