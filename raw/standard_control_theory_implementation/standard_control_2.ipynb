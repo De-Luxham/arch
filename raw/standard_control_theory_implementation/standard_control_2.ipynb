{
 "cells": [
  {
   "cell_type": "code",
   "execution_count": 1,
   "metadata": {},
   "outputs": [],
   "source": [
    "import sympy as sy\n",
    "import control as pc"
   ]
  },
  {
   "cell_type": "markdown",
   "metadata": {},
   "source": [
    "Part of the big question is whether we are simulating the dynamic response, or the steady-state mathematics iterations. Here below is the steady state reponse mathamtical system design, rather than a dynamic diffferential changes with time. Hence, Python's control toolbox cannot solve a steady-state response of a already stable system. However, attempting to perform a fully stable model means that if we want to perform feedback, there's a factor of recalculating stability from that until differential changes become 0 at different time-steps. So for example, if you were to perform feedback after an initial state, you can get a steady state reponse, but this is not the dynamic response, this is solving for the right answer after a number of iterations, and all the initial steady-state answers are wrong for a feedback system. So this gives a steady state response. If we change an input signal also at another point of time, then there is a new steady state response, but the question is whether you want to account for the time dynamics. Because currently, the system is accounting for the digital computing dynamics rather than the actual transient model, so you can't account for how the system dynamically responds and results in a real-time steady-state. So if an input changes in time, you can actually model the time differential change. If we begin considering delays and inputs into the rest of the system, we need to model time as time and computations as computations - and hence we need a time variable input.\n",
    "\n",
    "There's also the aspect that optics is fundamentally linear and 3D, so how do we account for differential changes in it? What is its dynamic response? There are only dynamic changes on dynamic inputs. What are time changes in optics? You could argue it is near instantaneous. So there's group delay as the time it takes for light to travel through the waveguide, specially if it has been affected in any way. So there is a need to model transient and steady-state responses, but each of these models should be kept separate.\n",
    "\n",
    "Now, getting a time domain model of a thermo-optic phase shifter response is non-trivial nor necessarily accurate. So, time is a completely new thing in the optical domain for these type of modelled systems. Yes, there is propagation time effects.\n",
    "\n",
    "Let's consider an MZI, in one arm there's light going over a certain length which incurrs a certain propagation time. Assuming we're only in steady-state mode, when does change occur? You can differtiate phase shift against length for example, but you would be discretizing space-wise. So imagine Pac-Mans moving in a grid of time, according to their position, their properties change, such as phase and this is also dependent in temperature at a given position, but then there must be a differential in temperature and length to calculate a steady state response. So there's this big aspect of time differentials. Could we work based purely on steady-state time differentials? Actually, that could work. There's also the factor of where to add delays, but if we consider every wavelength arm as a system, then we can simply follow the basic principles of control theory.\n",
    "\n",
    "Hence, the time discretization must occur at a fraction of the time of propagation of the shortest path in the model. "
   ]
  },
  {
   "cell_type": "markdown",
   "metadata": {},
   "source": [
    "So our inputs into the control system are the electromagnetic signals, that are time-domain constrained"
   ]
  },
  {
   "cell_type": "markdown",
   "metadata": {},
   "source": [
    "#### Beamsplitter\n",
    "\\begin{equation}\n",
    "\\begin{bmatrix} E_{out0}(t) \\\\ E_{out1}(t) \\end{bmatrix} =\n",
    "\\begin{bmatrix} r_{ac}& t_{bc} \\\\  t_{ad}& r_{bd} \\end{bmatrix}\n",
    "\\begin{bmatrix} E_{in0}(t) \\\\ E_{in1}(t) \\end{bmatrix} = \n",
    "\\begin{bmatrix} \\sqrt{r} &  i\\sqrt{1-r} \\\\  i \\sqrt{1-r} & \\sqrt{r} \\end{bmatrix}\n",
    "\\begin{bmatrix} E_{in0}(t) \\\\ E_{in1}(t) \\end{bmatrix}  =\n",
    "\\textbf{B}\\textbf{E(t)}\n",
    "\\end{equation}"
   ]
  },
  {
   "cell_type": "markdown",
   "metadata": {},
   "source": [
    "#### Phase Shifter on one arm\n",
    "\n",
    "Assuming a phase shifter on top arm\n",
    "\\begin{equation}\n",
    "\\textbf{ $\\Phi$ } = \\begin{bmatrix} e^{i\\phi} & 0 \\\\ 0 & 1\\end{bmatrix}\n",
    "\\end{equation}\n",
    "\n",
    "Note we're not yet taking into account Linear and LinearGroup delay, or the quantum probability variable within the design of the device.\n",
    "\n",
    "Hence the MZI configuration is:\n",
    "\n",
    "\\begin{equation}\n",
    "M\\textbf{E(t)}  = \\textbf{B} \\textbf{ $\\Phi$ } \\textbf{B}\\textbf{E(t)} \n",
    "\\end{equation}\n",
    "\n",
    "\\begin{equation}\n",
    "M\\textbf{E(t)}  = \\begin{bmatrix} \\sqrt{r} &  i\\sqrt{1-r} \\\\  i \\sqrt{1-r} & \\sqrt{r} \\end{bmatrix} \\begin{bmatrix} e^{i\\phi} & 0 \\\\ 0 & 1\\end{bmatrix} \\begin{bmatrix} \\sqrt{r} &  i\\sqrt{1-r} \\\\  i \\sqrt{1-r} & \\sqrt{r} \\end{bmatrix}\\begin{bmatrix} E_{in0}(t) \\\\ E_{in1}(t) \\end{bmatrix} = \\begin{bmatrix} E_{out0}(t) \\\\ E_{out1}(t) \\end{bmatrix} \n",
    "\\end{equation}"
   ]
  },
  {
   "cell_type": "markdown",
   "metadata": {},
   "source": [
    "Now we could just crunch some matrices together and input our time signals, but what if we wanted to leverage classical control system theory with regards to MIMO inputs and outputs, so that it is easier to design this type of systems togther and include feedback and nonlinearity back into the classical control models?\n",
    "\n",
    "The standard way to start is to create the differential equations for this type of system and we can use the fast linear properties of SymPy to create a single MZI component, and the quantum probability variable could be added into this later. Right now let´s consider that we've only got differential equations, with equal reflectivity on both sides of the matrix:"
   ]
  },
  {
   "cell_type": "code",
   "execution_count": 2,
   "metadata": {},
   "outputs": [
    {
     "data": {
      "text/latex": [
       "$\\displaystyle \\left[\\begin{matrix}\\left(\\sqrt{r_{0}} \\sqrt{r_{1}} e^{i \\phi{\\left(t \\right)}} - \\sqrt{1 - r_{0}} \\sqrt{1 - r_{1}}\\right) \\operatorname{E_{0}}{\\left(t \\right)} + \\left(i \\sqrt{r_{0}} \\sqrt{1 - r_{1}} e^{i \\phi{\\left(t \\right)}} + i \\sqrt{r_{1}} \\sqrt{1 - r_{0}}\\right) \\operatorname{E_{1}}{\\left(t \\right)}\\\\\\left(\\sqrt{r_{0}} \\sqrt{r_{1}} - \\sqrt{1 - r_{0}} \\sqrt{1 - r_{1}} e^{i \\phi{\\left(t \\right)}}\\right) \\operatorname{E_{1}}{\\left(t \\right)} + \\left(i \\sqrt{r_{0}} \\sqrt{1 - r_{1}} + i \\sqrt{r_{1}} \\sqrt{1 - r_{0}} e^{i \\phi{\\left(t \\right)}}\\right) \\operatorname{E_{0}}{\\left(t \\right)}\\end{matrix}\\right]$"
      ],
      "text/plain": [
       "Matrix([\n",
       "[(sqrt(r_0)*sqrt(r_1)*exp(I*\\phi(t)) - sqrt(1 - r_0)*sqrt(1 - r_1))*E_0(t) + (I*sqrt(r_0)*sqrt(1 - r_1)*exp(I*\\phi(t)) + I*sqrt(r_1)*sqrt(1 - r_0))*E_1(t)],\n",
       "[(sqrt(r_0)*sqrt(r_1) - sqrt(1 - r_0)*sqrt(1 - r_1)*exp(I*\\phi(t)))*E_1(t) + (I*sqrt(r_0)*sqrt(1 - r_1) + I*sqrt(r_1)*sqrt(1 - r_0)*exp(I*\\phi(t)))*E_0(t)]])"
      ]
     },
     "execution_count": 2,
     "metadata": {},
     "output_type": "execute_result"
    }
   ],
   "source": [
    "t = sy.Symbol(\"t\")\n",
    "E0 = sy.Function(\"E_0\")(t)\n",
    "E0_s = sy.Symbol(\"E_0\")\n",
    "dE0_s = sy.Symbol(\"dE_0\")\n",
    "E1 = sy.Function(\"E_1\")(t)\n",
    "E1_s = sy.Symbol(\"E_1\")\n",
    "dE1_s = sy.Symbol(\"dE_1\")\n",
    "phi = sy.Function(\"\\phi\")(t)\n",
    "r_0, r_1 = sy.symbols(\"r_0 r_1\")\n",
    "B_0  = sy.Matrix([[sy.sqrt(r_0), sy.I*sy.sqrt(1 - r_0)],\n",
    "\t\t\t\t[sy.I*sy.sqrt(1 - r_0), sy.sqrt(r_0)]])\n",
    "B_1  = sy.Matrix([[sy.sqrt(r_1), sy.I*sy.sqrt(1 - r_1)],\n",
    "\t\t\t\t[sy.I*sy.sqrt(1 - r_1), sy.sqrt(r_1)]])\n",
    "Phi = sy.Matrix([[sy.exp(sy.I * phi), 0],\n",
    "\t\t\t\t[0, 1]])\n",
    "E = sy.Matrix([[E0], [E1]])\n",
    "\n",
    "out = B_0 * Phi * B_1 * E\n",
    "out"
   ]
  },
  {
   "cell_type": "code",
   "execution_count": 3,
   "metadata": {},
   "outputs": [
    {
     "data": {
      "text/latex": [
       "$\\displaystyle \\left[\\begin{matrix}dE_{0} \\left(\\sqrt{r_{0}} \\sqrt{r_{1}} e^{i \\phi{\\left(t \\right)}} - \\sqrt{1 - r_{0}} \\sqrt{1 - r_{1}}\\right) + dE_{1} \\left(i \\sqrt{r_{0}} \\sqrt{1 - r_{1}} e^{i \\phi{\\left(t \\right)}} + i \\sqrt{r_{1}} \\sqrt{1 - r_{0}}\\right) + i \\sqrt{r_{0}} \\sqrt{r_{1}} \\operatorname{E_{0}}{\\left(t \\right)} e^{i \\phi{\\left(t \\right)}} \\frac{d}{d t} \\phi{\\left(t \\right)} - \\sqrt{r_{0}} \\sqrt{1 - r_{1}} \\operatorname{E_{1}}{\\left(t \\right)} e^{i \\phi{\\left(t \\right)}} \\frac{d}{d t} \\phi{\\left(t \\right)}\\\\dE_{0} \\left(i \\sqrt{r_{0}} \\sqrt{1 - r_{1}} + i \\sqrt{r_{1}} \\sqrt{1 - r_{0}} e^{i \\phi{\\left(t \\right)}}\\right) + dE_{1} \\left(\\sqrt{r_{0}} \\sqrt{r_{1}} - \\sqrt{1 - r_{0}} \\sqrt{1 - r_{1}} e^{i \\phi{\\left(t \\right)}}\\right) - \\sqrt{r_{1}} \\sqrt{1 - r_{0}} \\operatorname{E_{0}}{\\left(t \\right)} e^{i \\phi{\\left(t \\right)}} \\frac{d}{d t} \\phi{\\left(t \\right)} - i \\sqrt{1 - r_{0}} \\sqrt{1 - r_{1}} \\operatorname{E_{1}}{\\left(t \\right)} e^{i \\phi{\\left(t \\right)}} \\frac{d}{d t} \\phi{\\left(t \\right)}\\end{matrix}\\right]$"
      ],
      "text/plain": [
       "Matrix([\n",
       "[        dE_0*(sqrt(r_0)*sqrt(r_1)*exp(I*\\phi(t)) - sqrt(1 - r_0)*sqrt(1 - r_1)) + dE_1*(I*sqrt(r_0)*sqrt(1 - r_1)*exp(I*\\phi(t)) + I*sqrt(r_1)*sqrt(1 - r_0)) + I*sqrt(r_0)*sqrt(r_1)*E_0(t)*exp(I*\\phi(t))*Derivative(\\phi(t), t) - sqrt(r_0)*sqrt(1 - r_1)*E_1(t)*exp(I*\\phi(t))*Derivative(\\phi(t), t)],\n",
       "[dE_0*(I*sqrt(r_0)*sqrt(1 - r_1) + I*sqrt(r_1)*sqrt(1 - r_0)*exp(I*\\phi(t))) + dE_1*(sqrt(r_0)*sqrt(r_1) - sqrt(1 - r_0)*sqrt(1 - r_1)*exp(I*\\phi(t))) - sqrt(r_1)*sqrt(1 - r_0)*E_0(t)*exp(I*\\phi(t))*Derivative(\\phi(t), t) - I*sqrt(1 - r_0)*sqrt(1 - r_1)*E_1(t)*exp(I*\\phi(t))*Derivative(\\phi(t), t)]])"
      ]
     },
     "execution_count": 3,
     "metadata": {},
     "output_type": "execute_result"
    }
   ],
   "source": [
    "differential_time_response = out.diff(t)\n",
    "differential_time_response = differential_time_response.replace(E0.diff(t), dE0_s)\n",
    "differential_time_response = differential_time_response.replace(E1.diff(t), dE1_s)\n",
    "differential_time_response"
   ]
  },
  {
   "cell_type": "markdown",
   "metadata": {},
   "source": [
    "The problem becomes an equilibrium condition to solve. One could argue that when the output is in equilibrium or in steady state:\n",
    "\n",
    "\\begin{equation}\n",
    "\\begin{bmatrix} \\frac{dE_{out0}}{dt}  \\\\ \\frac{dE_{out1}}{dt} \\end{bmatrix}  = 0\n",
    "\\end{equation}"
   ]
  },
  {
   "cell_type": "code",
   "execution_count": 4,
   "metadata": {},
   "outputs": [
    {
     "data": {
      "text/latex": [
       "$\\displaystyle \\frac{- i E_{0} \\sqrt{r_{0}} \\sqrt{r_{1}} e^{i \\phi{\\left(t \\right)}} \\frac{d}{d t} \\phi{\\left(t \\right)} + E_{1} \\sqrt{r_{0}} \\sqrt{1 - r_{1}} e^{i \\phi{\\left(t \\right)}} \\frac{d}{d t} \\phi{\\left(t \\right)} - i dE_{1} \\sqrt{r_{0}} \\sqrt{1 - r_{1}} e^{i \\phi{\\left(t \\right)}} - i dE_{1} \\sqrt{r_{1}} \\sqrt{1 - r_{0}}}{\\sqrt{r_{0}} \\sqrt{r_{1}} e^{i \\phi{\\left(t \\right)}} - \\sqrt{1 - r_{0}} \\sqrt{1 - r_{1}}}$"
      ],
      "text/plain": [
       "(-I*E_0*sqrt(r_0)*sqrt(r_1)*exp(I*\\phi(t))*Derivative(\\phi(t), t) + E_1*sqrt(r_0)*sqrt(1 - r_1)*exp(I*\\phi(t))*Derivative(\\phi(t), t) - I*dE_1*sqrt(r_0)*sqrt(1 - r_1)*exp(I*\\phi(t)) - I*dE_1*sqrt(r_1)*sqrt(1 - r_0))/(sqrt(r_0)*sqrt(r_1)*exp(I*\\phi(t)) - sqrt(1 - r_0)*sqrt(1 - r_1))"
      ]
     },
     "execution_count": 4,
     "metadata": {},
     "output_type": "execute_result"
    }
   ],
   "source": [
    "# Note we're only expecting one solution\n",
    "dE0_dt = sy.solve(differential_time_response[0], dE0_s)[0]\n",
    "dE0_dt = dE0_dt.replace(E0, E0_s)\n",
    "dE0_dt = dE0_dt.replace(E1, E1_s)\n",
    "dE0_dt"
   ]
  },
  {
   "cell_type": "code",
   "execution_count": 5,
   "metadata": {},
   "outputs": [
    {
     "data": {
      "text/latex": [
       "$\\displaystyle \\frac{i \\left(i E_{0} \\sqrt{r_{0}} \\sqrt{r_{1}} e^{i \\phi{\\left(t \\right)}} \\frac{d}{d t} \\phi{\\left(t \\right)} - E_{1} \\sqrt{r_{0}} \\sqrt{1 - r_{1}} e^{i \\phi{\\left(t \\right)}} \\frac{d}{d t} \\phi{\\left(t \\right)} + dE_{0} \\sqrt{r_{0}} \\sqrt{r_{1}} e^{i \\phi{\\left(t \\right)}} - dE_{0} \\sqrt{1 - r_{0}} \\sqrt{1 - r_{1}}\\right)}{\\sqrt{r_{0}} \\sqrt{1 - r_{1}} e^{i \\phi{\\left(t \\right)}} + \\sqrt{r_{1}} \\sqrt{1 - r_{0}}}$"
      ],
      "text/plain": [
       "I*(I*E_0*sqrt(r_0)*sqrt(r_1)*exp(I*\\phi(t))*Derivative(\\phi(t), t) - E_1*sqrt(r_0)*sqrt(1 - r_1)*exp(I*\\phi(t))*Derivative(\\phi(t), t) + dE_0*sqrt(r_0)*sqrt(r_1)*exp(I*\\phi(t)) - dE_0*sqrt(1 - r_0)*sqrt(1 - r_1))/(sqrt(r_0)*sqrt(1 - r_1)*exp(I*\\phi(t)) + sqrt(r_1)*sqrt(1 - r_0))"
      ]
     },
     "execution_count": 5,
     "metadata": {},
     "output_type": "execute_result"
    }
   ],
   "source": [
    "# Note we're only expecting one solution\n",
    "dE1_dt = sy.solve(differential_time_response[0], dE1_s)[0]\n",
    "dE1_dt = dE1_dt.replace(E0, E0_s)\n",
    "dE1_dt = dE1_dt.replace(E1, E1_s)\n",
    "# dE1_dt = dE1_dt.replace(dE0_s, dE0_dt) # Cannot be solved canonically as it is a complementary system.\n",
    "dE1_dt"
   ]
  },
  {
   "cell_type": "markdown",
   "metadata": {},
   "source": [
    "Note that this is a complemenetary function with regards to the other state variable."
   ]
  },
  {
   "cell_type": "markdown",
   "metadata": {},
   "source": [
    "Hence, we can write in the nonlinear state-space equations:\n",
    "\n",
    "\\begin{equation}\n",
    "\\dot{\\textbf{x}} = \\textbf{A} \\textbf{x} +  \\textbf{B} \\textbf{u}\n",
    "\\end{equation}\n",
    "\n",
    "\\begin{equation}\n",
    "\\textbf{y} = \\textbf{C} \\textbf{x} + \\textbf{D} \\textbf{u}\n",
    "\\end{equation}"
   ]
  },
  {
   "cell_type": "code",
   "execution_count": 6,
   "metadata": {},
   "outputs": [],
   "source": [
    "A, B = sy.linear_eq_to_matrix([dE0_dt, dE1_dt], [E0_s, E1_s])\n",
    "B = sy.simplify(B)\n",
    "A = sy.simplify(A)"
   ]
  },
  {
   "cell_type": "code",
   "execution_count": 7,
   "metadata": {},
   "outputs": [
    {
     "data": {
      "text/latex": [
       "$\\displaystyle \\left[\\begin{matrix}- \\frac{i \\sqrt{r_{0}} \\sqrt{r_{1}} e^{i \\phi{\\left(t \\right)}} \\frac{d}{d t} \\phi{\\left(t \\right)}}{\\sqrt{r_{0}} \\sqrt{r_{1}} e^{i \\phi{\\left(t \\right)}} - \\sqrt{1 - r_{0}} \\sqrt{1 - r_{1}}} & \\frac{\\sqrt{r_{0}} \\sqrt{1 - r_{1}} e^{i \\phi{\\left(t \\right)}} \\frac{d}{d t} \\phi{\\left(t \\right)}}{\\sqrt{r_{0}} \\sqrt{r_{1}} e^{i \\phi{\\left(t \\right)}} - \\sqrt{1 - r_{0}} \\sqrt{1 - r_{1}}}\\\\- \\frac{\\sqrt{r_{0}} \\sqrt{r_{1}} e^{i \\phi{\\left(t \\right)}} \\frac{d}{d t} \\phi{\\left(t \\right)}}{\\sqrt{r_{0}} \\sqrt{1 - r_{1}} e^{i \\phi{\\left(t \\right)}} + \\sqrt{r_{1}} \\sqrt{1 - r_{0}}} & - \\frac{i \\sqrt{r_{0}} \\sqrt{1 - r_{1}} e^{i \\phi{\\left(t \\right)}} \\frac{d}{d t} \\phi{\\left(t \\right)}}{\\sqrt{r_{0}} \\sqrt{1 - r_{1}} e^{i \\phi{\\left(t \\right)}} + \\sqrt{r_{1}} \\sqrt{1 - r_{0}}}\\end{matrix}\\right]$"
      ],
      "text/plain": [
       "Matrix([\n",
       "[-I*sqrt(r_0)*sqrt(r_1)*exp(I*\\phi(t))*Derivative(\\phi(t), t)/(sqrt(r_0)*sqrt(r_1)*exp(I*\\phi(t)) - sqrt(1 - r_0)*sqrt(1 - r_1)),    sqrt(r_0)*sqrt(1 - r_1)*exp(I*\\phi(t))*Derivative(\\phi(t), t)/(sqrt(r_0)*sqrt(r_1)*exp(I*\\phi(t)) - sqrt(1 - r_0)*sqrt(1 - r_1))],\n",
       "[  -sqrt(r_0)*sqrt(r_1)*exp(I*\\phi(t))*Derivative(\\phi(t), t)/(sqrt(r_0)*sqrt(1 - r_1)*exp(I*\\phi(t)) + sqrt(r_1)*sqrt(1 - r_0)), -I*sqrt(r_0)*sqrt(1 - r_1)*exp(I*\\phi(t))*Derivative(\\phi(t), t)/(sqrt(r_0)*sqrt(1 - r_1)*exp(I*\\phi(t)) + sqrt(r_1)*sqrt(1 - r_0))]])"
      ]
     },
     "execution_count": 7,
     "metadata": {},
     "output_type": "execute_result"
    }
   ],
   "source": [
    "A"
   ]
  },
  {
   "cell_type": "code",
   "execution_count": 8,
   "metadata": {},
   "outputs": [
    {
     "data": {
      "text/latex": [
       "$\\displaystyle \\left[\\begin{matrix}\\frac{i dE_{1} \\left(\\sqrt{r_{0}} \\sqrt{1 - r_{1}} e^{i \\phi{\\left(t \\right)}} + \\sqrt{r_{1}} \\sqrt{1 - r_{0}}\\right)}{\\sqrt{r_{0}} \\sqrt{r_{1}} e^{i \\phi{\\left(t \\right)}} - \\sqrt{1 - r_{0}} \\sqrt{1 - r_{1}}}\\\\\\frac{i dE_{0} \\left(- \\sqrt{r_{0}} \\sqrt{r_{1}} e^{i \\phi{\\left(t \\right)}} + \\sqrt{1 - r_{0}} \\sqrt{1 - r_{1}}\\right)}{\\sqrt{r_{0}} \\sqrt{1 - r_{1}} e^{i \\phi{\\left(t \\right)}} + \\sqrt{r_{1}} \\sqrt{1 - r_{0}}}\\end{matrix}\\right]$"
      ],
      "text/plain": [
       "Matrix([\n",
       "[ I*dE_1*(sqrt(r_0)*sqrt(1 - r_1)*exp(I*\\phi(t)) + sqrt(r_1)*sqrt(1 - r_0))/(sqrt(r_0)*sqrt(r_1)*exp(I*\\phi(t)) - sqrt(1 - r_0)*sqrt(1 - r_1))],\n",
       "[I*dE_0*(-sqrt(r_0)*sqrt(r_1)*exp(I*\\phi(t)) + sqrt(1 - r_0)*sqrt(1 - r_1))/(sqrt(r_0)*sqrt(1 - r_1)*exp(I*\\phi(t)) + sqrt(r_1)*sqrt(1 - r_0))]])"
      ]
     },
     "execution_count": 8,
     "metadata": {},
     "output_type": "execute_result"
    }
   ],
   "source": [
    "B"
   ]
  },
  {
   "cell_type": "markdown",
   "metadata": {},
   "source": [
    "Note that the differential state inputs are coupled into the state space system for the opposite original state variables, hence are coupled together and this is the nonlinear represenatation. We can no longer set the differntials inputs to 0, since they are our effective state changes. However, we know have a nonlinear system we have to deal with. It is both nonlinear in $\\phi$ and in $\\frac{dE_0}{dt} * e^{\\phi}$. Note that this system should always be oscillating, that is the nature of light. So let us redefine what a steady state of a system is, because there will be none using standard control theory in optics. But is there a steady state in an MZI? That is a different question. But there is a steady state in an MZI for a given wavelength and is fully dependent on the phase input."
   ]
  },
  {
   "cell_type": "markdown",
   "metadata": {},
   "source": [
    "We're also dealing with complementary systems."
   ]
  },
  {
   "cell_type": "markdown",
   "metadata": {},
   "source": [
    "### Thermo-optic Phase Shifter Model"
   ]
  },
  {
   "cell_type": "code",
   "execution_count": null,
   "metadata": {},
   "outputs": [],
   "source": []
  },
  {
   "cell_type": "code",
   "execution_count": null,
   "metadata": {},
   "outputs": [],
   "source": []
  }
 ],
 "metadata": {
  "kernelspec": {
   "display_name": "Python 3",
   "language": "python",
   "name": "python3"
  },
  "language_info": {
   "codemirror_mode": {
    "name": "ipython",
    "version": 3
   },
   "file_extension": ".py",
   "mimetype": "text/x-python",
   "name": "python",
   "nbconvert_exporter": "python",
   "pygments_lexer": "ipython3",
   "version": "3.8.3"
  }
 },
 "nbformat": 4,
 "nbformat_minor": 4
}
