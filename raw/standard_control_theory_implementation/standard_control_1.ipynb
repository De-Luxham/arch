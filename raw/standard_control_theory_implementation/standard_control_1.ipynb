{
 "cells": [
  {
   "cell_type": "code",
   "execution_count": 9,
   "metadata": {},
   "outputs": [],
   "source": [
    "import sympy as sy\n",
    "import control as pc"
   ]
  },
  {
   "cell_type": "markdown",
   "metadata": {},
   "source": [
    "### Linear Steady-State Modelling"
   ]
  },
  {
   "cell_type": "markdown",
   "metadata": {},
   "source": [
    "Beamsplitter\n",
    "\\begin{equation}\n",
    "\\begin{bmatrix} E_{out0} \\\\ E_{out1} \\end{bmatrix} =\n",
    "\\begin{bmatrix} r_{ac}& t_{bc} \\\\  t_{ad}& r_{bd} \\end{bmatrix}\n",
    "\\begin{bmatrix} E_{in0} \\\\ E_{in1} \\end{bmatrix}\n",
    "\\end{equation}"
   ]
  },
  {
   "cell_type": "markdown",
   "metadata": {},
   "source": [
    "So our inputs into the control system are the electromagnetic signals, that are time-domain constrained"
   ]
  },
  {
   "cell_type": "markdown",
   "metadata": {},
   "source": [
    "#### Beamsplitter\n",
    "\\begin{equation}\n",
    "\\begin{bmatrix} E_{out0}(t) \\\\ E_{out1}(t) \\end{bmatrix} =\n",
    "\\begin{bmatrix} r_{ac}& t_{bc} \\\\  t_{ad}& r_{bd} \\end{bmatrix}\n",
    "\\begin{bmatrix} E_{in0}(t) \\\\ E_{in1}(t) \\end{bmatrix} = \n",
    "\\begin{bmatrix} \\sqrt{r} &  i\\sqrt{1-r} \\\\  i \\sqrt{1-r} & \\sqrt{r} \\end{bmatrix}\n",
    "\\begin{bmatrix} E_{in0}(t) \\\\ E_{in1}(t) \\end{bmatrix}  =\n",
    "\\textbf{B}\\textbf{E(t)}\n",
    "\\end{equation}"
   ]
  },
  {
   "cell_type": "markdown",
   "metadata": {},
   "source": [
    "#### Phase Shifter on one arm\n",
    "\n",
    "Assuming a phase shifter on top arm\n",
    "\\begin{equation}\n",
    "\\textbf{ $\\Phi$ } = \\begin{bmatrix} e^{i\\phi} & 0 \\\\ 0 & 1\\end{bmatrix}\n",
    "\\end{equation}\n",
    "\n",
    "Note we're not yet taking into account Linear and LinearGroup delay, or the quantum probability variable within the design of the device.\n",
    "\n",
    "Hence the MZI configuration is:\n",
    "\n",
    "\\begin{equation}\n",
    "M\\textbf{E(t)}  = \\textbf{B} \\textbf{ $\\Phi$ } \\textbf{B}\\textbf{E(t)} \n",
    "\\end{equation}\n",
    "\n",
    "\\begin{equation}\n",
    "M\\textbf{E(t)}  = \\begin{bmatrix} \\sqrt{r} &  i\\sqrt{1-r} \\\\  i \\sqrt{1-r} & \\sqrt{r} \\end{bmatrix} \\begin{bmatrix} e^{i\\phi} & 0 \\\\ 0 & 1\\end{bmatrix} \\begin{bmatrix} \\sqrt{r} &  i\\sqrt{1-r} \\\\  i \\sqrt{1-r} & \\sqrt{r} \\end{bmatrix}\\begin{bmatrix} E_{in0}(t) \\\\ E_{in1}(t) \\end{bmatrix} = \\begin{bmatrix} E_{out0}(t) \\\\ E_{out1}(t) \\end{bmatrix} \n",
    "\\end{equation}"
   ]
  },
  {
   "cell_type": "markdown",
   "metadata": {},
   "source": [
    "Now we could just crunch some matrices together and input our time signals, but what if we wanted to leverage classical control system theory with regards to MIMO inputs and outputs, so that it is easier to design this type of systems togther and include feedback and nonlinearity back into the classical control models?\n",
    "\n",
    "The standard way to start is to create the differential equations for this type of system and we can use the fast linear properties of SymPy to create a single MZI component, and the quantum probability variable could be added into this later. Right now let´s consider that we've only got differential equations, with equal reflectivity on both sides of the matrix:"
   ]
  },
  {
   "cell_type": "code",
   "execution_count": 64,
   "metadata": {},
   "outputs": [
    {
     "data": {
      "text/latex": [
       "$\\displaystyle \\left[\\begin{matrix}\\left(\\sqrt{r_{0}} \\sqrt{r_{1}} e^{i \\phi{\\left(t \\right)}} - \\sqrt{1 - r_{0}} \\sqrt{1 - r_{1}}\\right) \\operatorname{E_{in0}}{\\left(t \\right)} + \\left(i \\sqrt{r_{0}} \\sqrt{1 - r_{1}} e^{i \\phi{\\left(t \\right)}} + i \\sqrt{r_{1}} \\sqrt{1 - r_{0}}\\right) \\operatorname{E_{in1}}{\\left(t \\right)}\\\\\\left(\\sqrt{r_{0}} \\sqrt{r_{1}} - \\sqrt{1 - r_{0}} \\sqrt{1 - r_{1}} e^{i \\phi{\\left(t \\right)}}\\right) \\operatorname{E_{in1}}{\\left(t \\right)} + \\left(i \\sqrt{r_{0}} \\sqrt{1 - r_{1}} + i \\sqrt{r_{1}} \\sqrt{1 - r_{0}} e^{i \\phi{\\left(t \\right)}}\\right) \\operatorname{E_{in0}}{\\left(t \\right)}\\end{matrix}\\right]$"
      ],
      "text/plain": [
       "Matrix([\n",
       "[(sqrt(r_0)*sqrt(r_1)*exp(I*\\phi(t)) - sqrt(1 - r_0)*sqrt(1 - r_1))*E_{in0}(t) + (I*sqrt(r_0)*sqrt(1 - r_1)*exp(I*\\phi(t)) + I*sqrt(r_1)*sqrt(1 - r_0))*E_{in1}(t)],\n",
       "[(sqrt(r_0)*sqrt(r_1) - sqrt(1 - r_0)*sqrt(1 - r_1)*exp(I*\\phi(t)))*E_{in1}(t) + (I*sqrt(r_0)*sqrt(1 - r_1) + I*sqrt(r_1)*sqrt(1 - r_0)*exp(I*\\phi(t)))*E_{in0}(t)]])"
      ]
     },
     "execution_count": 64,
     "metadata": {},
     "output_type": "execute_result"
    }
   ],
   "source": [
    "t = sy.Symbol(\"t\")\n",
    "E_0 = sy.Function(\"E_{in0}\")(t)\n",
    "E_1 = sy.Function(\"E_{in1}\")(t)\n",
    "phi = sy.Function(\"\\phi\")(t)\n",
    "r_0, r_1 = sy.symbols(\"r_0 r_1\")\n",
    "B_0  = sy.Matrix([[sy.sqrt(r_0), sy.I*sy.sqrt(1 - r_0)],\n",
    "\t\t\t\t[sy.I*sy.sqrt(1 - r_0), sy.sqrt(r_0)]])\n",
    "B_1  = sy.Matrix([[sy.sqrt(r_1), sy.I*sy.sqrt(1 - r_1)],\n",
    "\t\t\t\t[sy.I*sy.sqrt(1 - r_1), sy.sqrt(r_1)]])\n",
    "Phi = sy.Matrix([[sy.exp(sy.I * phi), 0],\n",
    "\t\t\t\t[0, 1]])\n",
    "E = sy.Matrix([[E_0], [E_1]])\n",
    "\n",
    "out = B_0 * Phi * B_1 * E\n",
    "out"
   ]
  },
  {
   "cell_type": "markdown",
   "metadata": {},
   "source": [
    "So quite interesting, optics simply behaves different to other dynamic systems, although you could argue the delay in the heater or electro-optic modulated response is what really drives the dynamic response of the phase change. Yes, of course, because currently it's just a signal going through a block of glass with a given phase change when it is constant. We can assume the differential response of the system in time really is within $\\phi (t)$. Also we are not considering the optical delay of the response yet."
   ]
  },
  {
   "cell_type": "markdown",
   "metadata": {},
   "source": [
    "Note that we're currently assuming two equal signal outputs to what came in, not necessarily the effect of a MZI. "
   ]
  },
  {
   "cell_type": "markdown",
   "metadata": {},
   "source": [
    "Now this is fully just in the optical domain, and we can begin doing more with further domains inputs, but we'll get to that. Note that the case below is for linear state space, but we'll go into nonlinear in a bit."
   ]
  },
  {
   "cell_type": "markdown",
   "metadata": {},
   "source": [
    "<img src=\"docs/img/linear_state_space_theory.png\" />"
   ]
  },
  {
   "cell_type": "markdown",
   "metadata": {},
   "source": [
    "\\begin{equation}\n",
    "\\begin{bmatrix} E_{out0}(t) \\\\ E_{out1}(t) \\end{bmatrix} =\n",
    "\\begin{bmatrix}\n",
    "\\left(\\sqrt{r_{0}} \\sqrt{r_{1}} e^{i \\phi{\\left(t \\right)}} - \\sqrt{1 - r_{0}} \\sqrt{1 - r_{1}}\\right) \\operatorname{E_{in0}}{\\left(t \\right)} + \\left(i \\sqrt{r_{0}} \\sqrt{1 - r_{1}} e^{i \\phi{\\left(t \\right)}} + i \\sqrt{r_{1}} \\sqrt{1 - r_{0}}\\right) \\operatorname{E_{in1}}{\\left(t \\right)}\n",
    "\\\\\n",
    "\\left(\\sqrt{r_{0}} \\sqrt{r_{1}} - \\sqrt{1 - r_{0}} \\sqrt{1 - r_{1}} e^{i \\phi{\\left(t \\right)}}\\right) \\operatorname{E_{in1}}{\\left(t \\right)} + \\left(i \\sqrt{r_{0}} \\sqrt{1 - r_{1}} + i \\sqrt{r_{1}} \\sqrt{1 - r_{0}} e^{i \\phi{\\left(t \\right)}}\\right) \\operatorname{E_{in0}}{\\left(t \\right)} \n",
    "\\end{bmatrix}\n",
    "\\end{equation}"
   ]
  },
  {
   "cell_type": "markdown",
   "metadata": {},
   "source": [
    "The electromagnetic waves should also be the output of the system even if they're also states that have been changed throughout their dynamic response of the system. See this example https://lpsa.swarthmore.edu/Representations/SysRepSS.html on generating state space systems. Hence the output will be just:\n",
    "\n",
    "\\begin{equation} \n",
    "\\textbf{y} = \\begin{bmatrix} E_{out0}(t) \\\\ E_{out1}(t) \\end{bmatrix}\n",
    "\\end{equation}\n",
    "\n",
    "\n",
    "We know our state vector is:\n",
    "\n",
    "\\begin{equation} \n",
    "\\textbf{x} = \\begin{bmatrix} E_{in0}(t) \\\\ E_{in1}(t) \\end{bmatrix}\n",
    "\\end{equation}\n",
    "\n",
    "However, our input control variable $\\phi$ operates nonlinearly in our system. So we're going to put the equations in a canonical nonlinear state space form, without any inputs in the system.\n",
    "$R$ really gives response properties rather than control properties. But this can be modelled in different ways anyways if we wanted. In any case, now we're going to assume it's not an input vector.\n",
    "\n",
    "\\begin{equation} \n",
    "\\textbf{u} = 0\n",
    "\\end{equation}\n",
    "\n"
   ]
  },
  {
   "cell_type": "markdown",
   "metadata": {},
   "source": [
    "Now we need to generate our state matrix $\\textbf{A}$. Now the reason why state space is so popular is because of how it deals with linear systems, but it can also deal with very complex nonlinear systems at controlled operating conditions.\n",
    "\n",
    "In the case above, the MZI is a nonlinear device given interrelated states and inputs $\\textbf{x}$ and $\\textbf{u}$ with the $E \\phi$ relationship, so they can't be separated into independent $\\textbf{A}$ and $\\textbf{B}$ matrices canonically, but they can if we consider the outputs of the system after it has reached steady-state equilibrium after a given change. This should be useful for most modelling situations, as you can discretize differentially the desired changes and only model the changed output in equilibrium without transient changes. This should also be less computationally expensive.\n",
    "\n",
    "A mathemtical representation of delays in state-space systems are here: https://www.mathworks.com/help/control/ref/delayss.html and https://www.mathworks.com/help/control/ref/delayss.html . "
   ]
  },
  {
   "cell_type": "markdown",
   "metadata": {},
   "source": [
    "\\begin{equation}\n",
    "\\textbf{y} = \\textbf{C} \\textbf{x} + \\textbf{D} \\textbf{u}\n",
    "\\end{equation}\n",
    "\n",
    "\\begin{equation}\n",
    "\\begin{bmatrix} E_{out0}(t) \\\\ E_{out1}(t) \\end{bmatrix} = \n",
    "\\begin{bmatrix}\\sqrt{r_{0}} \\sqrt{r_{1}} e^{i \\phi{\\left(t \\right)}} - \\sqrt{1 - r_{0}} \\sqrt{1 - r_{1}} & i \\sqrt{r_{0}} \\sqrt{1 - r_{1}} e^{i \\phi{\\left(t \\right)}} + i \\sqrt{r_{1}} \\sqrt{1 - r_{0}} \\\\\n",
    "i\\sqrt{r_{0}} \\sqrt{1 - r_{1}} + i \\sqrt{r_{1}} \\sqrt{1 - r_{0}} e^{i \\phi{\\left(t \\right)}} & \\sqrt{r_{0}} \\sqrt{r_{1}} - \\sqrt{1 - r_{0}} \\sqrt{1 - r_{1}} e^{i \\phi{\\left(t \\right)}}\\end{bmatrix}\n",
    " \\begin{bmatrix} E_{in0}(t) \\\\ E_{in1}(t) \\end{bmatrix}\n",
    "\\end{equation}\n",
    "\n",
    "\\begin{equation} \n",
    "\\textbf{D} = \\begin{bmatrix} 0 & 0 \\\\ 0 & 0 \\end{bmatrix}\n",
    "\\end{equation}\n",
    "\n",
    "\\begin{equation} \n",
    "\\textbf{C} = \\begin{bmatrix}\\sqrt{r_{0}} \\sqrt{r_{1}} e^{i \\phi{\\left(t \\right)}} - \\sqrt{1 - r_{0}} \\sqrt{1 - r_{1}} & i \\sqrt{r_{0}} \\sqrt{1 - r_{1}} e^{i \\phi{\\left(t \\right)}} + i \\sqrt{r_{1}} \\sqrt{1 - r_{0}} \\\\\n",
    "i\\sqrt{r_{0}} \\sqrt{1 - r_{1}} + i \\sqrt{r_{1}} \\sqrt{1 - r_{0}} e^{i \\phi{\\left(t \\right)}} & \\sqrt{r_{0}} \\sqrt{r_{1}} - \\sqrt{1 - r_{0}} \\sqrt{1 - r_{1}} e^{i \\phi{\\left(t \\right)}}\\end{bmatrix}\n",
    "\\end{equation}"
   ]
  },
  {
   "cell_type": "markdown",
   "metadata": {},
   "source": [
    "So in reality, for a given phi at any equilibrium moment in time, we can just input this into a state space model as a standard direct response, or include any feedback input in the input vector."
   ]
  },
  {
   "cell_type": "markdown",
   "metadata": {},
   "source": [
    "We know, from the differential equations above that, because these terms are not present.\n",
    "\\begin{equation} \n",
    "\\dot{\\textbf{x}} = \\begin{bmatrix} 0 \\\\ 0 \\end{bmatrix}\n",
    "\\end{equation}"
   ]
  },
  {
   "cell_type": "markdown",
   "metadata": {},
   "source": [
    "Hence, we can write in the nonlinear equations:\n",
    "\n",
    "\\begin{equation}\n",
    "\\dot{\\textbf{x}} = \\textbf{0} = \\textbf{A} \\textbf{x} +  \\textbf{B} \\textbf{u}\n",
    "\\end{equation}\n",
    "\n",
    "or \n",
    "\\begin{equation}\n",
    "\\textbf{A} \\textbf{x} = -  \\textbf{B} \\textbf{u}\n",
    "\\end{equation}"
   ]
  },
  {
   "cell_type": "markdown",
   "metadata": {},
   "source": [
    "You could say that $\\textbf{A} = \\textbf{B}$ in this case, since $\\textbf{B}\\textbf{u} = 0$"
   ]
  },
  {
   "cell_type": "markdown",
   "metadata": {},
   "source": [
    "But this does not solve the actual problem of inputting two input signals. Note we want to control those inputs, and currently we'd have to discretize to solve them or connect them separately. So state space is not applicable in this case alone, let's consider"
   ]
  },
  {
   "cell_type": "code",
   "execution_count": null,
   "metadata": {},
   "outputs": [],
   "source": [
    "pc.ss()"
   ]
  }
 ],
 "metadata": {
  "kernelspec": {
   "display_name": "Python 3",
   "language": "python",
   "name": "python3"
  },
  "language_info": {
   "codemirror_mode": {
    "name": "ipython",
    "version": 3
   },
   "file_extension": ".py",
   "mimetype": "text/x-python",
   "name": "python",
   "nbconvert_exporter": "python",
   "pygments_lexer": "ipython3",
   "version": "3.8.3"
  }
 },
 "nbformat": 4,
 "nbformat_minor": 4
}
